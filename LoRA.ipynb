{
 "cells": [
  {
   "cell_type": "code",
   "execution_count": null,
   "metadata": {},
   "outputs": [],
   "source": [
    "import torch\n",
    "from torch import nn\n",
    "from torch.nn import functional as F"
   ]
  },
  {
   "cell_type": "markdown",
   "metadata": {},
   "source": [
    "### Helper Function for Comparing Results"
   ]
  },
  {
   "cell_type": "code",
   "execution_count": null,
   "metadata": {},
   "outputs": [],
   "source": [
    "from IPython.display import display, Markdown\n",
    "\n",
    "def generate(model, tokenizer, context, question):\n",
    "    batch = tokenizer(f\"**CONTEXT:**\\n{context}\\n\\n**QUESTION:**\\n{question}\\n\\n**ANSWER:**\\n\", return_tensors='pt', return_token_type_ids=False)\n",
    "    # batch = batch.to(device='cuda')\n",
    "\n",
    "    #raw model\n",
    "    return tokenizer.decode(model.generate(**batch, max_new_tokens=200)[0], skip_special_tokens=True)\n",
    "\n",
    "def compare_inference(model, tokenizer, context, question):\n",
    "    model.enable_lora()\n",
    "    out = generate(model, tokenizer, context, question)\n",
    "    display(Markdown(\"# Finetuned Model\\n\"))\n",
    "    display(Markdown(out))\n",
    "    model.disable_lora()\n",
    "    out = generate(model, tokenizer, context, question)\n",
    "    display(Markdown(\"# Raw Model\\n\"))\n",
    "    display(Markdown(out))\n",
    "    model.enable_lora()"
   ]
  },
  {
   "cell_type": "markdown",
   "metadata": {},
   "source": [
    "### Importing dependencies and downloading pre-trained model"
   ]
  },
  {
   "cell_type": "code",
   "execution_count": null,
   "metadata": {},
   "outputs": [],
   "source": [
    "from transformers import AutoTokenizer, AutoModelForCausalLM\n",
    "\n",
    "# model_id = \"bigscience/bloom-560m\"\n",
    "#peft_model_id = \"./checkpoint/BLOOM-560m-LoRA\"\n",
    "model_id = \"facebook/opt-350m\"\n",
    "peft_model_id = \"./checkpoint/opt-350m-lora\"\n",
    "\n",
    "#loading model\n",
    "model = AutoModelForCausalLM.from_pretrained(\n",
    "    model_id,\n",
    "    # torch_dtype=torch.float32,\n",
    "    device_map='auto',\n",
    ")\n",
    "\n",
    "#loading tokenizer for this model (which turns text into an input for the model)\n",
    "tokenizer = AutoTokenizer.from_pretrained(model_id)"
   ]
  },
  {
   "cell_type": "markdown",
   "metadata": {},
   "source": [
    "### Define LoRA linear module"
   ]
  },
  {
   "cell_type": "code",
   "execution_count": null,
   "metadata": {},
   "outputs": [],
   "source": [
    "from dataclasses import dataclass, field\n",
    "from typing import List\n",
    "\n",
    "@dataclass\n",
    "class LoraConfig:\n",
    "    r: int = 8\n",
    "    lora_alpha: int = 8\n",
    "    lora_dropout: float = 0.1\n",
    "    target_modules = [\"q_proj\", \"v_proj\"]\n",
    "\n",
    "class LoraLinear(nn.Module):\n",
    "    def __init__(\n",
    "        self,        \n",
    "        pre_model: nn.Linear,\n",
    "        config: LoraConfig,\n",
    "    ):\n",
    "        super().__init__()\n",
    "        \n",
    "        self.pre_model = pre_model\n",
    "        self.config = config\n",
    "        \n",
    "        self.lora_dropout = nn.Dropout(config.lora_dropout)\n",
    "        self.lora_A = nn.Linear(pre_model.in_features, config.r, bias=False)\n",
    "        self.lora_B = nn.Linear(config.r, pre_model.out_features, bias=False)\n",
    "        self.scaling = config.lora_alpha / config.r\n",
    "        self.lora_enabled = True\n",
    "        self.reset_lora_parameters()\n",
    "    \n",
    "    def reset_lora_parameters(self) -> None:\n",
    "        nn.init.normal_(self.lora_A.weight)\n",
    "        nn.init.constant_(self.lora_B.weight, 0)\n",
    "\n",
    "    def enable_lora(self) -> None:\n",
    "        self.lora_enabled = True    \n",
    "    \n",
    "    def disable_lora(self) -> None:\n",
    "        self.lora_enabled = False\n",
    "\n",
    "    def forward(self, input: torch.Tensor):\n",
    "        out = self.pre_model(input)\n",
    "        if self.lora_enabled:\n",
    "            out += self.lora_dropout(self.lora_B(self.lora_A(input))) * self.scaling\n",
    "\n",
    "        return out\n",
    "\n",
    "class LoraAdapter(nn.Module):\n",
    "    \"\"\"\n",
    "        pt_model: Pretrained model\n",
    "        config: Lora configuration\n",
    "    \"\"\"\n",
    "    def __init__(\n",
    "        self,        \n",
    "        pt_model: nn.Module,\n",
    "        config: LoraConfig,\n",
    "        enable_lora: bool = True,\n",
    "    ):\n",
    "        super().__init__()        \n",
    "        self.lora_modules = nn.ModuleList()\n",
    "        self.pt_model = pt_model\n",
    "        self.config = config\n",
    "        self.lora_enabled = enable_lora\n",
    "        \n",
    "        self._apply_lora_linear(pt_model)\n",
    "        if not enable_lora:\n",
    "            self.disable_lora()\n",
    "\n",
    "    def _apply_lora_linear(self, model: nn.Module) -> None:\n",
    "        for attr_name, children in model.named_children():\n",
    "            for para in children.parameters():\n",
    "                para.requires_grad = False\n",
    "                \n",
    "            if attr_name in self.config.target_modules and isinstance(children, nn.Linear):\n",
    "                lora_linear = LoraLinear(children, self.config)\n",
    "                setattr(model, attr_name, lora_linear)\n",
    "                self.lora_modules.append(lora_linear)\n",
    "            else:\n",
    "                self._apply_lora_linear(children)\n",
    "    \n",
    "    def disable_lora(self) -> None:\n",
    "        self.lora_enabled = False\n",
    "        for module in self.lora_modules:\n",
    "            module.disable_lora()\n",
    "    \n",
    "    def enable_lora(self) -> None:\n",
    "        self.lora_enabled = True\n",
    "        for module in self.lora_modules:\n",
    "            module.enable_lora()\n",
    "                \n",
    "    # def forward(self, input: torch.Tensor):\n",
    "    #     return self.pt_model(input)"
   ]
  },
  {
   "cell_type": "markdown",
   "metadata": {},
   "source": [
    "### Applying LoRA on model"
   ]
  },
  {
   "cell_type": "code",
   "execution_count": null,
   "metadata": {},
   "outputs": [],
   "source": [
    "config = LoraConfig()\n",
    "lora_adapter = LoraAdapter(model, config)"
   ]
  },
  {
   "cell_type": "code",
   "execution_count": null,
   "metadata": {},
   "outputs": [],
   "source": [
    "print(generate(lora_adapter.pt_model, tokenizer, \"Hello world\", \"What is your name?\"))"
   ]
  },
  {
   "cell_type": "markdown",
   "metadata": {},
   "source": [
    "### Comparing parameters before and after LoRA"
   ]
  },
  {
   "cell_type": "code",
   "execution_count": null,
   "metadata": {},
   "outputs": [],
   "source": [
    "trainable_params = 0\n",
    "all_param = 0\n",
    "\n",
    "#iterating over all parameters\n",
    "for _, param in lora_adapter.pt_model.named_parameters():\n",
    "    #adding parameters to total\n",
    "    all_param += param.numel()\n",
    "    #adding parameters to trainable if they require a graident\n",
    "    if param.requires_grad:\n",
    "        trainable_params += param.numel()\n",
    "\n",
    "#printing results\n",
    "print(f\"trainable params: {trainable_params}\")\n",
    "print(f\"all params: {all_param}\")\n",
    "print(f\"trainable: {100 * trainable_params / all_param:.2f}%\")"
   ]
  },
  {
   "cell_type": "markdown",
   "metadata": {},
   "source": [
    "### Loading and reformating SQUAD dataset"
   ]
  },
  {
   "cell_type": "code",
   "execution_count": null,
   "metadata": {},
   "outputs": [],
   "source": [
    "from datasets import load_dataset\n",
    "qa_dataset = load_dataset(\"squad_v2\")"
   ]
  },
  {
   "cell_type": "code",
   "execution_count": null,
   "metadata": {},
   "outputs": [],
   "source": [
    "def create_prompt(context, question, answer):\n",
    "  if len(answer[\"text\"]) < 1:\n",
    "    answer = \"Cannot Find Answer\"\n",
    "  else:\n",
    "    answer = answer[\"text\"][0]\n",
    "  prompt_template = f\"CONTEXT:\\n{context}\\n\\nQUESTION:\\n{question}\\n\\nANSWER:\\n{answer}</s>\"\n",
    "  return prompt_template\n",
    "\n",
    "#applying the reformatting function to the entire dataset\n",
    "mapped_qa_dataset = qa_dataset.map(lambda samples: tokenizer(create_prompt(samples['context'], samples['question'], samples['answers'])))"
   ]
  },
  {
   "cell_type": "markdown",
   "metadata": {},
   "source": [
    "### Fine tuning\n",
    "\n",
    "This code is largly co-opted. In the absence of a rigid validation\n",
    "procedure, the best practice is to just copy a successful tutorial or,\n",
    "better yet, directly from the documentation."
   ]
  },
  {
   "cell_type": "code",
   "execution_count": null,
   "metadata": {},
   "outputs": [],
   "source": [
    "import transformers\n",
    "\n",
    "trainer = transformers.Trainer(\n",
    "    model = lora_adapter.pt_model,\n",
    "    train_dataset = mapped_qa_dataset[\"train\"],\n",
    "    args = transformers.TrainingArguments(\n",
    "        per_device_train_batch_size=4,\n",
    "        gradient_accumulation_steps=4,\n",
    "        warmup_steps=100,\n",
    "        max_steps=100,\n",
    "        learning_rate=1e-3,        \n",
    "        logging_steps=10,\n",
    "        output_dir='results',\n",
    "    ),\n",
    "    # args = transformers.TrainingArguments(\n",
    "    #     output_dir=\"results\",\n",
    "    #     per_device_train_batch_size=4,\n",
    "    #     per_device_eval_batch_size=4,\n",
    "    #     evaluation_strategy=\"steps\",\n",
    "    #     eval_steps=50,\n",
    "    #     logging_steps=50,\n",
    "    #     gradient_accumulation_steps=1,\n",
    "    #     num_train_epochs=1,\n",
    "    #     weight_decay=0.1,\n",
    "    #     warmup_steps=10,\n",
    "    #     lr_scheduler_type=\"cosine\",\n",
    "    #     learning_rate=5e-4,\n",
    "    #     # fp16=True,\n",
    "    #     report_to=\"tensorboard\",\n",
    "    # ),\n",
    "    data_collator = transformers.DataCollatorForLanguageModeling(tokenizer, mlm=False)\n",
    ")\n",
    "# peft_model.config.use_cache = False  # silence the warnings. Please re-enable for inference!\n",
    "trainer.train()\n",
    "\n",
    "# model.save_pretrained(peft_model_id)"
   ]
  },
  {
   "cell_type": "markdown",
   "metadata": {},
   "source": [
    "### Test"
   ]
  },
  {
   "cell_type": "code",
   "execution_count": null,
   "metadata": {},
   "outputs": [],
   "source": [
    "context = \"You are a monster, and you eat yellow legos.\"\n",
    "question = \"What is the best food?\"\n",
    "\n",
    "compare_inference(lora_adapter.pt_model, tokenizer, context, question)"
   ]
  },
  {
   "cell_type": "code",
   "execution_count": null,
   "metadata": {},
   "outputs": [],
   "source": [
    "context = \"you are a math wizard\"\n",
    "question = \"what is 1+1 equal to?\"\n",
    "\n",
    "compare_inference(lora_adapter.pt_model, tokenizer, context, question)"
   ]
  },
  {
   "cell_type": "code",
   "execution_count": null,
   "metadata": {},
   "outputs": [],
   "source": [
    "context = \"Answer the riddle\"\n",
    "question = \"What gets bigger the more you take away?\"\n",
    "\n",
    "compare_inference(lora_adapter.pt_model, tokenizer, context, question)"
   ]
  }
 ],
 "metadata": {
  "kernelspec": {
   "display_name": "wheels",
   "language": "python",
   "name": "python3"
  },
  "language_info": {
   "codemirror_mode": {
    "name": "ipython",
    "version": 3
   },
   "file_extension": ".py",
   "mimetype": "text/x-python",
   "name": "python",
   "nbconvert_exporter": "python",
   "pygments_lexer": "ipython3",
   "version": "3.10.8"
  }
 },
 "nbformat": 4,
 "nbformat_minor": 2
}
