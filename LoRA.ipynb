{
 "cells": [
  {
   "cell_type": "code",
   "execution_count": 1,
   "metadata": {},
   "outputs": [],
   "source": [
    "import torch\n",
    "from torch import nn\n",
    "from torch.nn import functional as F"
   ]
  },
  {
   "cell_type": "markdown",
   "metadata": {},
   "source": [
    "### Helper Function for Comparing Results"
   ]
  },
  {
   "cell_type": "code",
   "execution_count": 2,
   "metadata": {},
   "outputs": [],
   "source": [
    "from IPython.display import display, Markdown\n",
    "\n",
    "def generate(model, tokenizer, context, question):\n",
    "    batch = tokenizer(f\"**CONTEXT:**\\n{context}\\n\\n**QUESTION:**\\n{question}\\n\\n**ANSWER:**\\n\", return_tensors='pt', return_token_type_ids=False)\n",
    "    # batch = batch.to(device='cuda')\n",
    "\n",
    "    #raw model\n",
    "    return tokenizer.decode(model.generate(**batch, max_new_tokens=200)[0], skip_special_tokens=True)\n",
    "\n",
    "def compare_inference(model, tokenizer, context, question):\n",
    "    out = generate(model, tokenizer, context, question)\n",
    "    display(Markdown(\"# Finetuned Model\\n\"))\n",
    "    display(Markdown(out))\n",
    "    model.disable_adapters()\n",
    "    out = generate(model, tokenizer, context, question)\n",
    "    display(Markdown(\"# Raw Model\\n\"))\n",
    "    display(Markdown(out))"
   ]
  },
  {
   "cell_type": "markdown",
   "metadata": {},
   "source": [
    "### Importing dependencies and downloading pre-trained model"
   ]
  },
  {
   "cell_type": "code",
   "execution_count": 3,
   "metadata": {},
   "outputs": [
    {
     "name": "stderr",
     "output_type": "stream",
     "text": [
      "/home/codespace/.python/current/lib/python3.10/site-packages/tqdm/auto.py:21: TqdmWarning: IProgress not found. Please update jupyter and ipywidgets. See https://ipywidgets.readthedocs.io/en/stable/user_install.html\n",
      "  from .autonotebook import tqdm as notebook_tqdm\n"
     ]
    }
   ],
   "source": [
    "from transformers import AutoTokenizer, AutoModelForCausalLM\n",
    "\n",
    "# model_id = \"bigscience/bloom-560m\"\n",
    "#peft_model_id = \"./checkpoint/BLOOM-560m-LoRA\"\n",
    "model_id = \"facebook/opt-350m\"\n",
    "peft_model_id = \"./checkpoint/opt-350m-lora\"\n",
    "\n",
    "#loading model\n",
    "model = AutoModelForCausalLM.from_pretrained(\n",
    "    model_id,\n",
    "    # torch_dtype=torch.float32,\n",
    "    device_map='auto',\n",
    ")\n",
    "\n",
    "#loading tokenizer for this model (which turns text into an input for the model)\n",
    "tokenizer = AutoTokenizer.from_pretrained(model_id)"
   ]
  },
  {
   "cell_type": "markdown",
   "metadata": {},
   "source": [
    "### Define LoRA linear module"
   ]
  },
  {
   "cell_type": "code",
   "execution_count": 4,
   "metadata": {},
   "outputs": [],
   "source": [
    "from dataclasses import dataclass, field\n",
    "from typing import List\n",
    "\n",
    "@dataclass\n",
    "class LoraConfig:\n",
    "    r:int = 8\n",
    "    lora_alpha:int = 8\n",
    "    lora_dropout: float = 0.1\n",
    "    target_modules = [\"q_proj\", \"v_proj\"]\n",
    "\n",
    "class LoraLinear(nn.Module):\n",
    "    def __init__(\n",
    "        self,        \n",
    "        pre_model: nn.Linear,\n",
    "        config: LoraConfig,\n",
    "    ):\n",
    "        super().__init__()\n",
    "        \n",
    "        self.pre_model = pre_model\n",
    "        self.config = config\n",
    "        \n",
    "        self.lora_dropout = nn.Dropout(config.lora_dropout)\n",
    "        self.lora_A = nn.Linear(pre_model.in_features, config.r, bias=False)\n",
    "        self.lora_B = nn.Linear(config.r, pre_model.out_features, bias=False)\n",
    "        self.scaling = config.lora_alpha / config.r\n",
    "        self.reset_parameters()\n",
    "    \n",
    "    def reset_parameters(self) -> None:\n",
    "        nn.init.normal_(self.lora_A.weight)\n",
    "        nn.init.constant_(self.lora_B.weight, 0)\n",
    "\n",
    "    def forward(self, input: torch.Tensor):\n",
    "        out = self.pre_model(input)\n",
    "        out += self.lora_dropout(self.lora_B(self.lora_A(input))) * self.scaling\n",
    "\n",
    "        return out\n",
    "\n",
    "def apply_lora_linear(config: LoraConfig, model: nn.Module):\n",
    "    def replace_submodule(model: nn.Module, attr_names: List[str]):\n",
    "        for attr_name, children in model.named_children():\n",
    "            for para in children.parameters():\n",
    "                para.requires_grad = False\n",
    "                \n",
    "            if attr_name in attr_names and isinstance(children, nn.Linear):\n",
    "                # print(f'found :{attr_name} {getattr(model, attr_name)}\\n')\n",
    "                setattr(model, attr_name, LoraLinear(children, config))\n",
    "            else:\n",
    "                replace_submodule(children, attr_names)\n",
    "\n",
    "    replace_submodule(model, config.target_modules)"
   ]
  },
  {
   "cell_type": "markdown",
   "metadata": {},
   "source": [
    "### Setting up LoRA using parameter efficient fine tuning"
   ]
  },
  {
   "cell_type": "code",
   "execution_count": 6,
   "metadata": {},
   "outputs": [],
   "source": [
    "config = LoraConfig()\n",
    "apply_lora_linear(config, model)"
   ]
  },
  {
   "cell_type": "code",
   "execution_count": 11,
   "metadata": {},
   "outputs": [
    {
     "name": "stdout",
     "output_type": "stream",
     "text": [
      "**CONTEXT:**\n",
      "Hello world\n",
      "\n",
      "**QUESTION:**\n",
      "What is your name?\n",
      "\n",
      "**ANSWER:**\n",
      "I am a man.\n",
      "\n",
      "**CONTEXT:**\n",
      "I am a man.\n",
      "\n",
      "**ANSWER:**\n",
      "I am a man.\n",
      "\n",
      "**CONTEXT:**\n",
      "I am a man.\n",
      "\n",
      "**ANSWER:**\n",
      "I am a man.\n",
      "\n",
      "**CONTEXT:**\n",
      "I am a man.\n",
      "\n",
      "**ANSWER:**\n",
      "I am a man.\n",
      "\n",
      "**CONTEXT:**\n",
      "I am a man.\n",
      "\n",
      "**ANSWER:**\n",
      "I am a man.\n",
      "\n",
      "**CONTEXT:**\n",
      "I am a man.\n",
      "\n",
      "**ANSWER:**\n",
      "I am a man.\n",
      "\n",
      "**CONTEXT:**\n",
      "I am a man.\n",
      "\n",
      "**ANSWER:**\n",
      "I am a man.\n",
      "\n",
      "**CONTEXT:**\n",
      "I am a man.\n",
      "\n",
      "**ANSWER:**\n",
      "I am a man.\n",
      "\n",
      "**CONTEXT:**\n",
      "I am a man.\n"
     ]
    }
   ],
   "source": [
    "print(generate(model, tokenizer, \"Hello world\", \"What is your name?\"))"
   ]
  },
  {
   "cell_type": "markdown",
   "metadata": {},
   "source": [
    "### Comparing parameters before and after LoRA"
   ]
  },
  {
   "cell_type": "code",
   "execution_count": 12,
   "metadata": {},
   "outputs": [
    {
     "name": "stdout",
     "output_type": "stream",
     "text": [
      "trainable params: 786432\n",
      "all params: 331982848\n",
      "trainable: 0.24%\n"
     ]
    }
   ],
   "source": [
    "trainable_params = 0\n",
    "all_param = 0\n",
    "\n",
    "#iterating over all parameters\n",
    "for _, param in model.named_parameters():\n",
    "    #adding parameters to total\n",
    "    all_param += param.numel()\n",
    "    #adding parameters to trainable if they require a graident\n",
    "    if param.requires_grad:\n",
    "        trainable_params += param.numel()\n",
    "\n",
    "#printing results\n",
    "print(f\"trainable params: {trainable_params}\")\n",
    "print(f\"all params: {all_param}\")\n",
    "print(f\"trainable: {100 * trainable_params / all_param:.2f}%\")"
   ]
  },
  {
   "cell_type": "markdown",
   "metadata": {},
   "source": [
    "### Loading and reformating SQUAD dataset"
   ]
  },
  {
   "cell_type": "code",
   "execution_count": 13,
   "metadata": {},
   "outputs": [],
   "source": [
    "from datasets import load_dataset\n",
    "qa_dataset = load_dataset(\"squad_v2\")"
   ]
  },
  {
   "cell_type": "code",
   "execution_count": 14,
   "metadata": {},
   "outputs": [],
   "source": [
    "def create_prompt(context, question, answer):\n",
    "  if len(answer[\"text\"]) < 1:\n",
    "    answer = \"Cannot Find Answer\"\n",
    "  else:\n",
    "    answer = answer[\"text\"][0]\n",
    "  prompt_template = f\"CONTEXT:\\n{context}\\n\\nQUESTION:\\n{question}\\n\\nANSWER:\\n{answer}</s>\"\n",
    "  return prompt_template\n",
    "\n",
    "#applying the reformatting function to the entire dataset\n",
    "mapped_qa_dataset = qa_dataset.map(lambda samples: tokenizer(create_prompt(samples['context'], samples['question'], samples['answers'])))"
   ]
  },
  {
   "cell_type": "markdown",
   "metadata": {},
   "source": [
    "### Fine tuning\n",
    "\n",
    "This code is largly co-opted. In the absence of a rigid validation\n",
    "procedure, the best practice is to just copy a successful tutorial or,\n",
    "better yet, directly from the documentation."
   ]
  },
  {
   "cell_type": "code",
   "execution_count": 15,
   "metadata": {},
   "outputs": [
    {
     "name": "stderr",
     "output_type": "stream",
     "text": [
      "/home/codespace/.python/current/lib/python3.10/site-packages/bitsandbytes/cextension.py:34: UserWarning: The installed version of bitsandbytes was compiled without GPU support. 8-bit optimizers, 8-bit multiplication, and GPU quantization are unavailable.\n",
      "  warn(\"The installed version of bitsandbytes was compiled without GPU support. \"\n"
     ]
    },
    {
     "name": "stdout",
     "output_type": "stream",
     "text": [
      "/home/codespace/.python/current/lib/python3.10/site-packages/bitsandbytes/libbitsandbytes_cpu.so: undefined symbol: cadam32bit_grad_fp32\n"
     ]
    },
    {
     "name": "stderr",
     "output_type": "stream",
     "text": [
      "You're using a GPT2TokenizerFast tokenizer. Please note that with a fast tokenizer, using the `__call__` method is faster than using a method to encode the text followed by a call to the `pad` method to get a padded encoding.\n"
     ]
    },
    {
     "data": {
      "text/html": [
       "\n",
       "    <div>\n",
       "      \n",
       "      <progress value='3' max='100' style='width:300px; height:20px; vertical-align: middle;'></progress>\n",
       "      [  3/100 00:27 < 44:31, 0.04 it/s, Epoch 0.00/1]\n",
       "    </div>\n",
       "    <table border=\"1\" class=\"dataframe\">\n",
       "  <thead>\n",
       " <tr style=\"text-align: left;\">\n",
       "      <th>Step</th>\n",
       "      <th>Training Loss</th>\n",
       "    </tr>\n",
       "  </thead>\n",
       "  <tbody>\n",
       "  </tbody>\n",
       "</table><p>"
      ],
      "text/plain": [
       "<IPython.core.display.HTML object>"
      ]
     },
     "metadata": {},
     "output_type": "display_data"
    }
   ],
   "source": [
    "import transformers\n",
    "\n",
    "trainer = transformers.Trainer(\n",
    "    model=model,\n",
    "    train_dataset=mapped_qa_dataset[\"train\"],\n",
    "    args=transformers.TrainingArguments(\n",
    "        per_device_train_batch_size=4,\n",
    "        gradient_accumulation_steps=4,\n",
    "        warmup_steps=100,\n",
    "        max_steps=100,\n",
    "        learning_rate=1e-3,        \n",
    "        logging_steps=10,\n",
    "        output_dir='results',\n",
    "    ),\n",
    "    data_collator=transformers.DataCollatorForLanguageModeling(tokenizer, mlm=False)\n",
    ")\n",
    "# peft_model.config.use_cache = False  # silence the warnings. Please re-enable for inference!\n",
    "trainer.train()\n",
    "\n",
    "# model.save_pretrained(peft_model_id)"
   ]
  },
  {
   "cell_type": "markdown",
   "metadata": {},
   "source": [
    "### Test"
   ]
  },
  {
   "cell_type": "code",
   "execution_count": 10,
   "metadata": {},
   "outputs": [
    {
     "data": {
      "text/markdown": [
       "# Finetuned Model\n"
      ],
      "text/plain": [
       "<IPython.core.display.Markdown object>"
      ]
     },
     "metadata": {},
     "output_type": "display_data"
    },
    {
     "data": {
      "text/markdown": [
       "**CONTEXT:**\n",
       "You are a monster, and you eat yellow legos.\n",
       "\n",
       "**QUESTION:**\n",
       "What is the best food?\n",
       "\n",
       "**ANSWER:**\n",
       "Cannot Find Answer"
      ],
      "text/plain": [
       "<IPython.core.display.Markdown object>"
      ]
     },
     "metadata": {},
     "output_type": "display_data"
    },
    {
     "data": {
      "text/markdown": [
       "# Raw Model\n"
      ],
      "text/plain": [
       "<IPython.core.display.Markdown object>"
      ]
     },
     "metadata": {},
     "output_type": "display_data"
    },
    {
     "data": {
      "text/markdown": [
       "**CONTEXT:**\n",
       "You are a monster, and you eat yellow legos.\n",
       "\n",
       "**QUESTION:**\n",
       "What is the best food?\n",
       "\n",
       "**ANSWER:**\n",
       "I like to eat a lot of yellow legos.\n",
       "\n",
       "**QUESTION:**\n",
       "What is the best way to get a good night's sleep?\n",
       "\n",
       "**ANSWER:**\n",
       "I like to sleep in a bed with a lot of yellow legos.\n",
       "\n",
       "**QUESTION:**\n",
       "What is the best way to get a good night's sleep?\n",
       "\n",
       "**ANSWER:**\n",
       "I like to sleep in a bed with a lot of yellow legos.\n",
       "\n",
       "**QUESTION:**\n",
       "What is the best way to get a good night's sleep?\n",
       "\n",
       "**ANSWER:**\n",
       "I like to sleep in a bed with a lot of yellow legos.\n",
       "\n",
       "**QUESTION:**\n",
       "What is the best way to get a good night's sleep?\n",
       "\n",
       "**ANSWER:**\n",
       "I like to sleep in a bed with a lot of yellow legos.\n",
       "\n",
       "**QUESTION:**\n",
       "What is the best way"
      ],
      "text/plain": [
       "<IPython.core.display.Markdown object>"
      ]
     },
     "metadata": {},
     "output_type": "display_data"
    }
   ],
   "source": [
    "context = \"You are a monster, and you eat yellow legos.\"\n",
    "question = \"What is the best food?\"\n",
    "\n",
    "compare_inference(model, tokenizer, context, question)"
   ]
  },
  {
   "cell_type": "code",
   "execution_count": 11,
   "metadata": {},
   "outputs": [
    {
     "data": {
      "text/markdown": [
       "# Finetuned Model\n"
      ],
      "text/plain": [
       "<IPython.core.display.Markdown object>"
      ]
     },
     "metadata": {},
     "output_type": "display_data"
    },
    {
     "data": {
      "text/markdown": [
       "**CONTEXT:**\n",
       "you are a math wizard\n",
       "\n",
       "**QUESTION:**\n",
       "what is 1+1 equal to?\n",
       "\n",
       "**ANSWER:**\n",
       "1+1 is equal to 1+1.\n",
       "\n",
       "**CONTEXT:**\n",
       "1+1 is equal to 1+1.\n",
       "\n",
       "**ANSWER:**\n",
       "1+1 is equal to 1+1.\n",
       "\n",
       "**ANSWER:**\n",
       "1+1 is equal to 1+1.\n",
       "\n",
       "**ANSWER:**\n",
       "1+1 is equal to 1+1.\n",
       "\n",
       "**ANSWER:**\n",
       "1+1 is equal to 1+1.\n",
       "\n",
       "**ANSWER:**\n",
       "1+1 is equal to 1+1.\n",
       "\n",
       "**ANSWER:**\n",
       "1+1 is equal to 1+1.\n",
       "\n",
       "**ANSWER:**\n",
       "1+1 is equal to 1+1.\n",
       "\n",
       "**ANSWER:**\n",
       "1+1 is equal to 1+1.\n",
       "\n",
       "**ANSWER:**\n",
       "1+1 is equal to 1+1.\n",
       "\n",
       "**ANSWER:**\n",
       "1+"
      ],
      "text/plain": [
       "<IPython.core.display.Markdown object>"
      ]
     },
     "metadata": {},
     "output_type": "display_data"
    },
    {
     "data": {
      "text/markdown": [
       "# Raw Model\n"
      ],
      "text/plain": [
       "<IPython.core.display.Markdown object>"
      ]
     },
     "metadata": {},
     "output_type": "display_data"
    },
    {
     "data": {
      "text/markdown": [
       "**CONTEXT:**\n",
       "you are a math wizard\n",
       "\n",
       "**QUESTION:**\n",
       "what is 1+1 equal to?\n",
       "\n",
       "**ANSWER:**\n",
       "1+1=1\n",
       "\n",
       "**CONTEXT:**\n",
       "1+1=1\n",
       "\n",
       "**QUESTION:**\n",
       "what is 1+1 equal to?\n",
       "\n",
       "**ANSWER:**\n",
       "1+1=1\n",
       "\n",
       "**CONTEXT:**\n",
       "1+1=1\n",
       "\n",
       "**QUESTION:**\n",
       "what is 1+1 equal to?\n",
       "\n",
       "**ANSWER:**\n",
       "1+1=1\n",
       "\n",
       "**QUESTION:**\n",
       "what is 1+1 equal to?\n",
       "\n",
       "**ANSWER:**\n",
       "1+1=1\n",
       "\n",
       "**QUESTION:**\n",
       "what is 1+1 equal to?\n",
       "\n",
       "**ANSWER:**\n",
       "1+1=1\n",
       "\n",
       "**QUESTION:**\n",
       "what is 1+1 equal to?\n",
       "\n",
       "**ANSWER:**\n",
       "1+1=1\n",
       "\n",
       "**QUESTION:**\n",
       "what is 1+1 equal to?\n",
       "\n",
       "**ANSWER:**\n"
      ],
      "text/plain": [
       "<IPython.core.display.Markdown object>"
      ]
     },
     "metadata": {},
     "output_type": "display_data"
    }
   ],
   "source": [
    "context = \"you are a math wizard\"\n",
    "question = \"what is 1+1 equal to?\"\n",
    "\n",
    "compare_inference(model, tokenizer, context, question)"
   ]
  },
  {
   "cell_type": "code",
   "execution_count": 12,
   "metadata": {},
   "outputs": [
    {
     "data": {
      "text/markdown": [
       "# Finetuned Model\n"
      ],
      "text/plain": [
       "<IPython.core.display.Markdown object>"
      ]
     },
     "metadata": {},
     "output_type": "display_data"
    },
    {
     "data": {
      "text/markdown": [
       "**CONTEXT:**\n",
       "Answer the riddle\n",
       "\n",
       "**QUESTION:**\n",
       "What gets bigger the more you take away?\n",
       "\n",
       "**ANSWER:**\n",
       "\n",
       "**CONTEXT:**\n",
       "\n",
       "**QUESTION:**\n",
       "What gets bigger the more you take away?\n",
       "\n",
       "**ANSWER:**\n",
       "\n",
       "**ANSWER:**\n",
       "\n",
       "**QUESTION:**\n",
       "What gets bigger the more you take away?\n",
       "\n",
       "**ANSWER:**\n",
       "\n",
       "**ANSWER:**\n",
       "\n",
       "**QUESTION:**\n",
       "What gets bigger the more you take away?\n",
       "\n",
       "**ANSWER:**\n",
       "\n",
       "**ANSWER:**\n",
       "\n",
       "**QUESTION:**\n",
       "What gets bigger the more you take away?\n",
       "\n",
       "**ANSWER:**\n",
       "\n",
       "**ANSWER:**\n",
       "\n",
       "**QUESTION:**\n",
       "What gets bigger the more you take away?\n",
       "\n",
       "**ANSWER:**\n",
       "\n",
       "**ANSWER:**\n",
       "\n",
       "**QUESTION:**\n",
       "What gets bigger the more you take away?\n",
       "\n",
       "**ANSWER:**\n",
       "\n",
       "**ANSWER:**\n",
       "\n",
       "**QUESTION:**\n"
      ],
      "text/plain": [
       "<IPython.core.display.Markdown object>"
      ]
     },
     "metadata": {},
     "output_type": "display_data"
    },
    {
     "data": {
      "text/markdown": [
       "# Raw Model\n"
      ],
      "text/plain": [
       "<IPython.core.display.Markdown object>"
      ]
     },
     "metadata": {},
     "output_type": "display_data"
    },
    {
     "data": {
      "text/markdown": [
       "**CONTEXT:**\n",
       "Answer the riddle\n",
       "\n",
       "**QUESTION:**\n",
       "What gets bigger the more you take away?\n",
       "\n",
       "**ANSWER:**\n",
       "\n",
       "**QUESTION:**\n",
       "What gets bigger the more you take away?\n",
       "\n",
       "**ANSWER:**\n",
       "\n",
       "**QUESTION:**\n",
       "What gets bigger the more you take away?\n",
       "\n",
       "**ANSWER:**\n",
       "\n",
       "**QUESTION:**\n",
       "What gets bigger the more you take away?\n",
       "\n",
       "**ANSWER:**\n",
       "\n",
       "**QUESTION:**\n",
       "What gets bigger the more you take away?\n",
       "\n",
       "**ANSWER:**\n",
       "\n",
       "**QUESTION:**\n",
       "What gets bigger the more you take away?\n",
       "\n",
       "**ANSWER:**\n",
       "\n",
       "**QUESTION:**\n",
       "What gets bigger the more you take away?\n",
       "\n",
       "**ANSWER:**\n",
       "\n",
       "**QUESTION:**\n",
       "What gets bigger the more you take away?\n",
       "\n",
       "**ANSWER:**\n",
       "\n",
       "**QUESTION:**\n",
       "What gets bigger the more you take away?\n",
       "\n",
       "**ANSWER:**\n",
       "\n",
       "**QUESTION:**\n",
       "What"
      ],
      "text/plain": [
       "<IPython.core.display.Markdown object>"
      ]
     },
     "metadata": {},
     "output_type": "display_data"
    }
   ],
   "source": [
    "context = \"Answer the riddle\"\n",
    "question = \"What gets bigger the more you take away?\"\n",
    "\n",
    "compare_inference(model, tokenizer, context, question)"
   ]
  }
 ],
 "metadata": {
  "kernelspec": {
   "display_name": "wheels",
   "language": "python",
   "name": "python3"
  },
  "language_info": {
   "codemirror_mode": {
    "name": "ipython",
    "version": 3
   },
   "file_extension": ".py",
   "mimetype": "text/x-python",
   "name": "python",
   "nbconvert_exporter": "python",
   "pygments_lexer": "ipython3",
   "version": "3.10.8"
  }
 },
 "nbformat": 4,
 "nbformat_minor": 2
}
