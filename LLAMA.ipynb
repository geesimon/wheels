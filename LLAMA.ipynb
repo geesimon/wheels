{
 "cells": [
  {
   "cell_type": "markdown",
   "metadata": {},
   "source": [
    "# Llama from scratch (or how to implement a paper without crying)"
   ]
  },
  {
   "cell_type": "markdown",
   "metadata": {},
   "source": [
    "## Setting up our dataset"
   ]
  },
  {
   "cell_type": "code",
   "execution_count": 2,
   "metadata": {},
   "outputs": [],
   "source": [
    "import torch\n",
    "from torch import nn\n",
    "from torch.nn import functional as F\n",
    "import numpy as np\n",
    "from matplotlib import pyplot as plt\n",
    "import time\n",
    "import pandas as pd"
   ]
  },
  {
   "cell_type": "code",
   "execution_count": 22,
   "metadata": {},
   "outputs": [
    {
     "name": "stdout",
     "output_type": "stream",
     "text": [
      "First Citizen:\n",
      "Before we proce\n"
     ]
    }
   ],
   "source": [
    "lines = open('./data/Shakespeare.txt', 'r').read()\n",
    "\n",
    "vocab = sorted(list(set(lines)))\n",
    "itos = {i:ch for i, ch in enumerate(vocab)}\n",
    "stoi = {ch:i for i, ch in enumerate(vocab)}\n",
    "\n",
    "print(lines[:30])"
   ]
  },
  {
   "cell_type": "code",
   "execution_count": 23,
   "metadata": {},
   "outputs": [
    {
     "name": "stdout",
     "output_type": "stream",
     "text": [
      "vocab size: 65\n"
     ]
    },
    {
     "data": {
      "text/plain": [
       "'hello'"
      ]
     },
     "execution_count": 23,
     "metadata": {},
     "output_type": "execute_result"
    }
   ],
   "source": [
    "# simple tokenization by characters\n",
    "def encode(s):\n",
    "    return [stoi[ch] for ch in s]\n",
    "\n",
    "def decode(l):\n",
    "    return ''.join([itos[i] for i in l])\n",
    "\n",
    "print('vocab size:', len(vocab))\n",
    "decode(encode(\"hello\"))"
   ]
  },
  {
   "cell_type": "code",
   "execution_count": 24,
   "metadata": {},
   "outputs": [],
   "source": [
    "MASTER_CONFIG = {\n",
    "    \"vocab_size\": len(vocab),\n",
    "}"
   ]
  },
  {
   "cell_type": "code",
   "execution_count": 25,
   "metadata": {},
   "outputs": [
    {
     "data": {
      "text/plain": [
       "torch.Size([1115394])"
      ]
     },
     "execution_count": 25,
     "metadata": {},
     "output_type": "execute_result"
    }
   ],
   "source": [
    "dataset = torch.tensor(encode(lines), dtype=torch.int8)\n",
    "dataset.shape"
   ]
  },
  {
   "cell_type": "code",
   "execution_count": 26,
   "metadata": {},
   "outputs": [
    {
     "data": {
      "text/plain": [
       "[(\"engeance for't\\nN\", \"ngeance for't\\nNo\"),\n",
       " (\" that name's woe\", \"that name's woe.\"),\n",
       " ('le.\\n\\nAll:\\nWe kno', 'e.\\n\\nAll:\\nWe know'),\n",
       " ('ng now provided\\n', 'g now provided\\nA'),\n",
       " ('nour I for aye a', 'our I for aye al'),\n",
       " ('wer nay, and tak', 'er nay, and take'),\n",
       " ('.\\n\\nVIRGILIA:\\nBut', '\\n\\nVIRGILIA:\\nBut '),\n",
       " ('NBURY:\\nI cry you', 'BURY:\\nI cry you ')]"
      ]
     },
     "execution_count": 26,
     "metadata": {},
     "output_type": "execute_result"
    }
   ],
   "source": [
    "def get_batches(data, split, batch_size, context_window, config=MASTER_CONFIG):\n",
    "    train = data[:int(.8 * len(data))]\n",
    "    val = data[int(.8 * len(data)): int(.9 * len(data))]\n",
    "    test = data[int(.9 * len(data)):]\n",
    "\n",
    "    if split == 'train':\n",
    "        batch_data = train\n",
    "    elif split == 'test':\n",
    "        batch_data = test\n",
    "    else:\n",
    "        batch_data = val\n",
    "\n",
    "    # pick random starting points\n",
    "    ix = torch.randint(0, batch_data.size(0) - context_window - 1, (batch_size,))\n",
    "    x = torch.stack([batch_data[i:i+context_window] for i in ix]).long()\n",
    "    y = torch.stack([batch_data[i+1:i+context_window+1] for i in ix]).long()\n",
    "    return x, y\n",
    "\n",
    "MASTER_CONFIG.update({\n",
    "    'batch_size': 8,\n",
    "    'context_window': 16\n",
    "})\n",
    "\n",
    "xs, ys = get_batches(dataset, 'train', MASTER_CONFIG['batch_size'], MASTER_CONFIG['context_window'])\n",
    "\n",
    "[(decode(xs[i].tolist()), decode(ys[i].tolist())) for i in range(len(xs))]"
   ]
  },
  {
   "cell_type": "markdown",
   "metadata": {},
   "source": [
    "## Evaluation"
   ]
  },
  {
   "cell_type": "code",
   "execution_count": 27,
   "metadata": {},
   "outputs": [],
   "source": [
    "@torch.no_grad()  # don't compute gradients for this function\n",
    "def evaluate_loss(model, config=MASTER_CONFIG):\n",
    "    out = {}\n",
    "    model.eval()\n",
    "    for split in [\"train\", \"val\"]:\n",
    "        losses = []\n",
    "        for _ in range(10):\n",
    "            xb, yb = get_batches(dataset, split, config['batch_size'], config['context_window'])\n",
    "            _, loss = model(xb, yb)\n",
    "            losses.append(loss.item())\n",
    "        out[split] = np.mean(losses)\n",
    "    model.train()\n",
    "    return out"
   ]
  },
  {
   "cell_type": "markdown",
   "metadata": {},
   "source": [
    "## Setting up a working base model"
   ]
  },
  {
   "cell_type": "code",
   "execution_count": 45,
   "metadata": {},
   "outputs": [
    {
     "name": "stdout",
     "output_type": "stream",
     "text": [
      "model params: 33217\n"
     ]
    }
   ],
   "source": [
    "class SimpleBrokenModel(nn.Module):\n",
    "    def __init__(self, config=MASTER_CONFIG):\n",
    "        super().__init__()\n",
    "        self.config = config\n",
    "\n",
    "        self.embedding = nn.Embedding(config['vocab_size'], config['d_model'])\n",
    "        self.linear = nn.Sequential(\n",
    "            nn.Linear(config['d_model'], config['d_model']),\n",
    "            nn.ReLU(),\n",
    "            nn.Linear(config['d_model'], config['vocab_size']),\n",
    "        )\n",
    "        \n",
    "        print(\"model params:\", sum([m.numel() for m in self.parameters()]))\n",
    "\n",
    "    def forward(self, idx, targets=None):\n",
    "        x = self.embedding(idx)\n",
    "        a = self.linear(x)\n",
    "        logits = F.softmax(a, dim=-1)\n",
    "\n",
    "        # print(logits.view(-1, self.config['vocab_size']).shape)\n",
    "        # print(targets.view(-1).shape)\n",
    "\n",
    "        if targets is not None:\n",
    "            loss = F.cross_entropy(logits.view(-1, self.config['vocab_size']), targets.view(-1))\n",
    "            return logits, loss\n",
    "\n",
    "        else:\n",
    "            return logits\n",
    "\n",
    "MASTER_CONFIG.update({\n",
    "    'd_model': 128,\n",
    "})\n",
    "model = SimpleBrokenModel(MASTER_CONFIG)\n",
    "xs, ys = get_batches(dataset, 'train', MASTER_CONFIG['batch_size'], MASTER_CONFIG['context_window'])\n",
    "\n",
    "logits, loss = model(xs, ys)"
   ]
  },
  {
   "cell_type": "code",
   "execution_count": 52,
   "metadata": {},
   "outputs": [
    {
     "name": "stdout",
     "output_type": "stream",
     "text": [
      "model params: 33217\n",
      "Epoch 0 | val loss 4.174 | Time 0.004 | ETA in seconds 0.366\n",
      "Epoch 10 | val loss 4.156 | Time 0.017 | ETA in seconds 1.696\n",
      "Epoch 20 | val loss 4.105 | Time 0.018 | ETA in seconds 1.758\n",
      "Epoch 30 | val loss 4.051 | Time 0.017 | ETA in seconds 1.658\n",
      "Epoch 40 | val loss 4.003 | Time 0.016 | ETA in seconds 1.491\n",
      "Epoch 50 | val loss 3.972 | Time 0.017 | ETA in seconds 1.596\n",
      "Epoch 60 | val loss 3.962 | Time 0.017 | ETA in seconds 1.617\n",
      "Epoch 70 | val loss 3.958 | Time 0.020 | ETA in seconds 1.873\n",
      "Epoch 80 | val loss 3.968 | Time 0.017 | ETA in seconds 1.532\n",
      "Epoch 90 | val loss 3.949 | Time 0.016 | ETA in seconds 1.462\n",
      "Epoch 100 | val loss 3.953 | Time 0.016 | ETA in seconds 1.422\n",
      "Epoch 110 | val loss 3.949 | Time 0.015 | ETA in seconds 1.360\n",
      "Epoch 120 | val loss 3.955 | Time 0.021 | ETA in seconds 1.855\n",
      "Epoch 130 | val loss 3.947 | Time 0.012 | ETA in seconds 1.085\n",
      "Epoch 140 | val loss 3.952 | Time 0.012 | ETA in seconds 1.062\n",
      "Epoch 150 | val loss 3.958 | Time 0.012 | ETA in seconds 0.993\n",
      "Epoch 160 | val loss 3.939 | Time 0.018 | ETA in seconds 1.477\n",
      "Epoch 170 | val loss 3.950 | Time 0.016 | ETA in seconds 1.368\n",
      "Epoch 180 | val loss 3.951 | Time 0.018 | ETA in seconds 1.490\n",
      "Epoch 190 | val loss 3.945 | Time 0.016 | ETA in seconds 1.332\n",
      "Epoch 200 | val loss 3.957 | Time 0.017 | ETA in seconds 1.329\n",
      "Epoch 210 | val loss 3.954 | Time 0.019 | ETA in seconds 1.477\n",
      "Epoch 220 | val loss 3.949 | Time 0.014 | ETA in seconds 1.130\n",
      "Epoch 230 | val loss 3.944 | Time 0.013 | ETA in seconds 1.029\n",
      "Epoch 240 | val loss 3.947 | Time 0.015 | ETA in seconds 1.109\n",
      "Epoch 250 | val loss 3.937 | Time 0.020 | ETA in seconds 1.483\n",
      "Epoch 260 | val loss 3.942 | Time 0.017 | ETA in seconds 1.284\n",
      "Epoch 270 | val loss 3.951 | Time 0.024 | ETA in seconds 1.774\n",
      "Epoch 280 | val loss 3.944 | Time 0.019 | ETA in seconds 1.341\n",
      "Epoch 290 | val loss 3.948 | Time 0.017 | ETA in seconds 1.198\n",
      "Epoch 300 | val loss 3.948 | Time 0.017 | ETA in seconds 1.176\n",
      "Epoch 310 | val loss 3.940 | Time 0.016 | ETA in seconds 1.102\n",
      "Epoch 320 | val loss 3.947 | Time 0.013 | ETA in seconds 0.898\n",
      "Epoch 330 | val loss 3.938 | Time 0.015 | ETA in seconds 0.974\n",
      "Epoch 340 | val loss 3.941 | Time 0.016 | ETA in seconds 1.037\n",
      "Epoch 350 | val loss 3.942 | Time 0.020 | ETA in seconds 1.275\n",
      "Epoch 360 | val loss 3.937 | Time 0.021 | ETA in seconds 1.361\n",
      "Epoch 370 | val loss 3.937 | Time 0.018 | ETA in seconds 1.141\n",
      "Epoch 380 | val loss 3.938 | Time 0.013 | ETA in seconds 0.788\n",
      "Epoch 390 | val loss 3.939 | Time 0.018 | ETA in seconds 1.098\n",
      "Epoch 400 | val loss 3.943 | Time 0.016 | ETA in seconds 0.949\n",
      "Epoch 410 | val loss 3.937 | Time 0.020 | ETA in seconds 1.191\n",
      "Epoch 420 | val loss 3.926 | Time 0.017 | ETA in seconds 0.967\n",
      "Epoch 430 | val loss 3.936 | Time 0.016 | ETA in seconds 0.892\n",
      "Epoch 440 | val loss 3.937 | Time 0.021 | ETA in seconds 1.177\n",
      "Epoch 450 | val loss 3.941 | Time 0.014 | ETA in seconds 0.766\n",
      "Epoch 460 | val loss 3.945 | Time 0.012 | ETA in seconds 0.632\n",
      "Epoch 470 | val loss 3.940 | Time 0.015 | ETA in seconds 0.771\n",
      "Epoch 480 | val loss 3.945 | Time 0.013 | ETA in seconds 0.663\n",
      "Epoch 490 | val loss 3.927 | Time 0.012 | ETA in seconds 0.613\n",
      "Epoch 500 | val loss 3.945 | Time 0.012 | ETA in seconds 0.612\n",
      "Epoch 510 | val loss 3.949 | Time 0.012 | ETA in seconds 0.569\n",
      "Epoch 520 | val loss 3.934 | Time 0.012 | ETA in seconds 0.580\n",
      "Epoch 530 | val loss 3.939 | Time 0.012 | ETA in seconds 0.565\n",
      "Epoch 540 | val loss 3.947 | Time 0.012 | ETA in seconds 0.530\n",
      "Epoch 550 | val loss 3.936 | Time 0.012 | ETA in seconds 0.537\n",
      "Epoch 560 | val loss 3.942 | Time 0.012 | ETA in seconds 0.518\n",
      "Epoch 570 | val loss 3.933 | Time 0.019 | ETA in seconds 0.809\n",
      "Epoch 580 | val loss 3.939 | Time 0.016 | ETA in seconds 0.677\n",
      "Epoch 590 | val loss 3.940 | Time 0.012 | ETA in seconds 0.496\n",
      "Epoch 600 | val loss 3.928 | Time 0.015 | ETA in seconds 0.594\n",
      "Epoch 610 | val loss 3.942 | Time 0.012 | ETA in seconds 0.476\n",
      "Epoch 620 | val loss 3.944 | Time 0.012 | ETA in seconds 0.450\n",
      "Epoch 630 | val loss 3.940 | Time 0.012 | ETA in seconds 0.431\n",
      "Epoch 640 | val loss 3.945 | Time 0.018 | ETA in seconds 0.659\n",
      "Epoch 650 | val loss 3.943 | Time 0.021 | ETA in seconds 0.729\n",
      "Epoch 660 | val loss 3.951 | Time 0.012 | ETA in seconds 0.423\n",
      "Epoch 670 | val loss 3.940 | Time 0.016 | ETA in seconds 0.540\n",
      "Epoch 680 | val loss 3.939 | Time 0.016 | ETA in seconds 0.517\n",
      "Epoch 690 | val loss 3.931 | Time 0.012 | ETA in seconds 0.377\n",
      "Epoch 700 | val loss 3.944 | Time 0.017 | ETA in seconds 0.516\n",
      "Epoch 710 | val loss 3.937 | Time 0.019 | ETA in seconds 0.542\n",
      "Epoch 720 | val loss 3.939 | Time 0.014 | ETA in seconds 0.378\n",
      "Epoch 730 | val loss 3.938 | Time 0.013 | ETA in seconds 0.341\n",
      "Epoch 740 | val loss 3.939 | Time 0.013 | ETA in seconds 0.331\n",
      "Epoch 750 | val loss 3.942 | Time 0.015 | ETA in seconds 0.365\n",
      "Epoch 760 | val loss 3.955 | Time 0.015 | ETA in seconds 0.351\n",
      "Epoch 770 | val loss 3.950 | Time 0.025 | ETA in seconds 0.585\n",
      "Epoch 780 | val loss 3.933 | Time 0.023 | ETA in seconds 0.499\n",
      "Epoch 790 | val loss 3.939 | Time 0.015 | ETA in seconds 0.322\n",
      "Epoch 800 | val loss 3.940 | Time 0.015 | ETA in seconds 0.307\n",
      "Epoch 810 | val loss 3.948 | Time 0.012 | ETA in seconds 0.231\n",
      "Epoch 820 | val loss 3.946 | Time 0.012 | ETA in seconds 0.220\n",
      "Epoch 830 | val loss 3.937 | Time 0.012 | ETA in seconds 0.209\n",
      "Epoch 840 | val loss 3.940 | Time 0.013 | ETA in seconds 0.201\n",
      "Epoch 850 | val loss 3.949 | Time 0.011 | ETA in seconds 0.172\n",
      "Epoch 860 | val loss 3.941 | Time 0.015 | ETA in seconds 0.208\n",
      "Epoch 870 | val loss 3.949 | Time 0.014 | ETA in seconds 0.181\n",
      "Epoch 880 | val loss 3.948 | Time 0.014 | ETA in seconds 0.172\n",
      "Epoch 890 | val loss 3.948 | Time 0.013 | ETA in seconds 0.140\n",
      "Epoch 900 | val loss 3.942 | Time 0.012 | ETA in seconds 0.119\n",
      "Epoch 910 | val loss 3.945 | Time 0.012 | ETA in seconds 0.104\n",
      "Epoch 920 | val loss 3.935 | Time 0.016 | ETA in seconds 0.129\n",
      "Epoch 930 | val loss 3.943 | Time 0.016 | ETA in seconds 0.109\n",
      "Epoch 940 | val loss 3.940 | Time 0.013 | ETA in seconds 0.077\n",
      "Epoch 950 | val loss 3.939 | Time 0.013 | ETA in seconds 0.065\n",
      "Epoch 960 | val loss 3.945 | Time 0.012 | ETA in seconds 0.049\n",
      "Epoch 970 | val loss 3.952 | Time 0.014 | ETA in seconds 0.041\n",
      "Epoch 980 | val loss 3.942 | Time 0.015 | ETA in seconds 0.030\n",
      "Epoch 990 | val loss 3.948 | Time 0.012 | ETA in seconds 0.012\n",
      "validation loss:  3.9477394104003904\n"
     ]
    },
    {
     "data": {
      "text/plain": [
       "<Axes: >"
      ]
     },
     "execution_count": 52,
     "metadata": {},
     "output_type": "execute_result"
    },
    {
     "data": {
      "image/png": "[encoded data removed]",
      "text/plain": [
       "<Figure size 640x480 with 1 Axes>"
      ]
     },
     "metadata": {},
     "output_type": "display_data"
    }
   ],
   "source": [
    "MASTER_CONFIG.update({\n",
    "    'epochs': 1000,\n",
    "    'log_interval': 10,\n",
    "    'batch_size': 32,\n",
    "})\n",
    "model = SimpleBrokenModel(MASTER_CONFIG)\n",
    "\n",
    "optimizer = torch.optim.Adam(\n",
    "    model.parameters(), \n",
    ")\n",
    "\n",
    "def train(model, optimizer, scheduler=None, config=MASTER_CONFIG, print_logs=False):\n",
    "    losses = []\n",
    "    start_time = time.time()\n",
    "    for epoch in range(config['epochs']):\n",
    "        optimizer.zero_grad()\n",
    "\n",
    "        xs, ys = get_batches(dataset, 'train', config['batch_size'], config['context_window'])\n",
    "        logits, loss = model(xs, targets=ys)\n",
    "        loss.backward()\n",
    "        optimizer.step()\n",
    "\n",
    "        if scheduler:\n",
    "            scheduler.step()\n",
    "\n",
    "        if epoch % config['log_interval'] == 0:\n",
    "            batch_time = time.time() - start_time\n",
    "            x = evaluate_loss(model)\n",
    "            losses += [x]\n",
    "            if print_logs:\n",
    "                print(f\"Epoch {epoch} | val loss {x['val']:.3f} | Time {batch_time:.3f} | ETA in seconds {batch_time * (config['epochs'] - epoch)/config['log_interval'] :.3f}\")\n",
    "            start_time = time.time()\n",
    "\n",
    "            if scheduler:\n",
    "                print(\"lr: \", scheduler.get_lr())\n",
    "\n",
    "    # print(pd.DataFrame(losses))\n",
    "    print(\"validation loss: \", losses[-1]['val'])\n",
    "    return pd.DataFrame(losses).plot()\n",
    "\n",
    "train(model, optimizer, print_logs=True)"
   ]
  },
  {
   "cell_type": "code",
   "execution_count": 49,
   "metadata": {},
   "outputs": [
    {
     "ename": "NameError",
     "evalue": "name 'losses' is not defined",
     "output_type": "error",
     "traceback": [
      "\u001b[0;31m---------------------------------------------------------------------------\u001b[0m",
      "\u001b[0;31mNameError\u001b[0m                                 Traceback (most recent call last)",
      "\u001b[1;32m/home/simon/wheels/LLAMA.ipynb Cell 14\u001b[0m line \u001b[0;36m1\n\u001b[0;32m----> <a href='vscode-notebook-cell://wsl%2Bubuntu-22.04/home/simon/wheels/LLAMA.ipynb#X23sdnNjb2RlLXJlbW90ZQ%3D%3D?line=0'>1</a>\u001b[0m losses\n",
      "\u001b[0;31mNameError\u001b[0m: name 'losses' is not defined"
     ]
    }
   ],
   "source": [
    "losses"
   ]
  },
  {
   "cell_type": "code",
   "execution_count": null,
   "metadata": {},
   "outputs": [],
   "source": []
  }
 ],
 "metadata": {
  "kernelspec": {
   "display_name": "dl-fundamentals",
   "language": "python",
   "name": "python3"
  },
  "language_info": {
   "codemirror_mode": {
    "name": "ipython",
    "version": 3
   },
   "file_extension": ".py",
   "mimetype": "text/x-python",
   "name": "python",
   "nbconvert_exporter": "python",
   "pygments_lexer": "ipython3",
   "version": "3.9.17"
  }
 },
 "nbformat": 4,
 "nbformat_minor": 2
}
