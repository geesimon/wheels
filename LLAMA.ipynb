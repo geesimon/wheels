{
 "cells": [
  {
   "cell_type": "markdown",
   "metadata": {},
   "source": [
    "# Llama from scratch (or how to implement a paper without crying)"
   ]
  },
  {
   "cell_type": "markdown",
   "metadata": {},
   "source": [
    "## Setting up our dataset"
   ]
  },
  {
   "cell_type": "code",
   "execution_count": 39,
   "metadata": {},
   "outputs": [],
   "source": [
    "import torch\n",
    "from torch import nn\n",
    "from torch.nn import functional as F\n",
    "import numpy as np\n",
    "from matplotlib import pyplot as plt\n",
    "import time\n",
    "import pandas as pd"
   ]
  },
  {
   "cell_type": "code",
   "execution_count": 40,
   "metadata": {},
   "outputs": [
    {
     "name": "stdout",
     "output_type": "stream",
     "text": [
      "First Citizen:\n",
      "Before we proce\n"
     ]
    }
   ],
   "source": [
    "lines = open('./data/Shakespeare.txt', 'r').read()\n",
    "\n",
    "vocab = sorted(list(set(lines)))\n",
    "itos = {i:ch for i, ch in enumerate(vocab)}\n",
    "stoi = {ch:i for i, ch in enumerate(vocab)}\n",
    "\n",
    "print(lines[:30])"
   ]
  },
  {
   "cell_type": "code",
   "execution_count": 41,
   "metadata": {},
   "outputs": [
    {
     "name": "stdout",
     "output_type": "stream",
     "text": [
      "vocab size: 65\n"
     ]
    },
    {
     "data": {
      "text/plain": [
       "'hello'"
      ]
     },
     "execution_count": 41,
     "metadata": {},
     "output_type": "execute_result"
    }
   ],
   "source": [
    "# simple tokenization by characters\n",
    "def encode(s):\n",
    "    return [stoi[ch] for ch in s]\n",
    "\n",
    "def decode(l):\n",
    "    return ''.join([itos[i] for i in l])\n",
    "\n",
    "print('vocab size:', len(vocab))\n",
    "decode(encode(\"hello\"))"
   ]
  },
  {
   "cell_type": "code",
   "execution_count": 42,
   "metadata": {},
   "outputs": [],
   "source": [
    "MASTER_CONFIG = {\n",
    "    \"vocab_size\": len(vocab),\n",
    "}"
   ]
  },
  {
   "cell_type": "code",
   "execution_count": 43,
   "metadata": {},
   "outputs": [
    {
     "data": {
      "text/plain": [
       "torch.Size([1115394])"
      ]
     },
     "execution_count": 43,
     "metadata": {},
     "output_type": "execute_result"
    }
   ],
   "source": [
    "dataset = torch.tensor(encode(lines), dtype=torch.int8)\n",
    "dataset.shape"
   ]
  },
  {
   "cell_type": "code",
   "execution_count": 44,
   "metadata": {},
   "outputs": [
    {
     "data": {
      "text/plain": [
       "[('crooked age,\\nTo ', 'rooked age,\\nTo c'),\n",
       " ('ng,--\\n\\nAUFIDIUS:', 'g,--\\n\\nAUFIDIUS:\\n'),\n",
       " ('en her hence to ', 'n her hence to m'),\n",
       " ('n were I painted', ' were I painted '),\n",
       " (' it.\\n\\nFirst Murd', 'it.\\n\\nFirst Murde'),\n",
       " ('her mocks both y', 'er mocks both yo'),\n",
       " ('ce I have set my', 'e I have set my '),\n",
       " ('t;\\nAnd craves yo', ';\\nAnd craves you')]"
      ]
     },
     "execution_count": 44,
     "metadata": {},
     "output_type": "execute_result"
    }
   ],
   "source": [
    "def get_batches(data, split, batch_size, context_window, config=MASTER_CONFIG):\n",
    "    train = data[:int(.8 * len(data))]\n",
    "    val = data[int(.8 * len(data)): int(.9 * len(data))]\n",
    "    test = data[int(.9 * len(data)):]\n",
    "\n",
    "    if split == 'train':\n",
    "        batch_data = train\n",
    "    elif split == 'test':\n",
    "        batch_data = test\n",
    "    else:\n",
    "        batch_data = val\n",
    "\n",
    "    # pick random starting points\n",
    "    ix = torch.randint(0, batch_data.size(0) - context_window - 1, (batch_size,))\n",
    "    x = torch.stack([batch_data[i:i+context_window] for i in ix]).long()\n",
    "    y = torch.stack([batch_data[i+1:i+context_window+1] for i in ix]).long()\n",
    "    return x, y\n",
    "\n",
    "MASTER_CONFIG.update({\n",
    "    'batch_size': 8,\n",
    "    'context_window': 16\n",
    "})\n",
    "\n",
    "xs, ys = get_batches(dataset, 'train', MASTER_CONFIG['batch_size'], MASTER_CONFIG['context_window'])\n",
    "\n",
    "[(decode(xs[i].tolist()), decode(ys[i].tolist())) for i in range(len(xs))]"
   ]
  },
  {
   "cell_type": "markdown",
   "metadata": {},
   "source": [
    "## Evaluation"
   ]
  },
  {
   "cell_type": "code",
   "execution_count": 45,
   "metadata": {},
   "outputs": [],
   "source": [
    "@torch.no_grad()  # don't compute gradients for this function\n",
    "def evaluate_loss(model, config=MASTER_CONFIG):\n",
    "    out = {}\n",
    "    model.eval()\n",
    "    for split in [\"train\", \"val\"]:\n",
    "        losses = []\n",
    "        for _ in range(10):\n",
    "            xb, yb = get_batches(dataset, split, config['batch_size'], config['context_window'])\n",
    "            _, loss = model(xb, yb)\n",
    "            losses.append(loss.item())\n",
    "        out[split] = np.mean(losses)\n",
    "    model.train()\n",
    "    return out"
   ]
  },
  {
   "cell_type": "markdown",
   "metadata": {},
   "source": [
    "## Setting up a working base model"
   ]
  },
  {
   "cell_type": "code",
   "execution_count": 46,
   "metadata": {},
   "outputs": [
    {
     "name": "stdout",
     "output_type": "stream",
     "text": [
      "model params: 33217\n"
     ]
    }
   ],
   "source": [
    "class SimpleBrokenModel(nn.Module):\n",
    "    def __init__(self, config=MASTER_CONFIG):\n",
    "        super().__init__()\n",
    "        self.config = config\n",
    "\n",
    "        self.embedding = nn.Embedding(config['vocab_size'], config['d_model'])\n",
    "        self.linear = nn.Sequential(\n",
    "            nn.Linear(config['d_model'], config['d_model']),\n",
    "            nn.ReLU(),\n",
    "            nn.Linear(config['d_model'], config['vocab_size']),\n",
    "        )\n",
    "        \n",
    "        print(\"model params:\", sum([m.numel() for m in self.parameters()]))\n",
    "\n",
    "    def forward(self, idx, targets=None):\n",
    "        x = self.embedding(idx)\n",
    "        logits = self.linear(x)\n",
    "        # logits = F.softmax(a, dim=-1)\n",
    "\n",
    "        # print(logits.view(-1, self.config['vocab_size']).shape)\n",
    "        # print(targets.view(-1).shape)\n",
    "\n",
    "        if targets is not None:\n",
    "            loss = F.cross_entropy(logits.view(-1, self.config['vocab_size']), targets.view(-1))\n",
    "            return logits, loss\n",
    "\n",
    "        else:\n",
    "            return logits\n",
    "\n",
    "MASTER_CONFIG.update({\n",
    "    'd_model': 128,\n",
    "})\n",
    "model = SimpleBrokenModel(MASTER_CONFIG)\n",
    "xs, ys = get_batches(dataset, 'train', MASTER_CONFIG['batch_size'], MASTER_CONFIG['context_window'])\n",
    "\n",
    "logits, loss = model(xs, ys)"
   ]
  },
  {
   "cell_type": "code",
   "execution_count": 47,
   "metadata": {},
   "outputs": [
    {
     "name": "stdout",
     "output_type": "stream",
     "text": [
      "model params: 33217\n",
      "validation loss:  2.5156085014343263\n"
     ]
    },
    {
     "data": {
      "text/plain": [
       "<Axes: >"
      ]
     },
     "execution_count": 47,
     "metadata": {},
     "output_type": "execute_result"
    },
    {
     "data": {
      "image/png": "[encoded data removed]",
      "text/plain": [
       "<Figure size 640x480 with 1 Axes>"
      ]
     },
     "metadata": {},
     "output_type": "display_data"
    }
   ],
   "source": [
    "MASTER_CONFIG.update({\n",
    "    'epochs': 1000,\n",
    "    'log_interval': 100,\n",
    "    'batch_size': 32,\n",
    "})\n",
    "model = SimpleBrokenModel(MASTER_CONFIG)\n",
    "\n",
    "optimizer = torch.optim.Adam(\n",
    "    model.parameters(), \n",
    ")\n",
    "\n",
    "def train(model, optimizer, scheduler=None, config=MASTER_CONFIG, print_logs=False):\n",
    "    losses = []\n",
    "    start_time = time.time()\n",
    "    for epoch in range(config['epochs']):\n",
    "        optimizer.zero_grad()\n",
    "\n",
    "        xs, ys = get_batches(dataset, 'train', config['batch_size'], config['context_window'])\n",
    "        logits, loss = model(xs, targets=ys)\n",
    "        loss.backward()\n",
    "        optimizer.step()\n",
    "\n",
    "        if scheduler:\n",
    "            scheduler.step()\n",
    "\n",
    "        if epoch % config['log_interval'] == 0:\n",
    "            batch_time = time.time() - start_time\n",
    "            x = evaluate_loss(model)\n",
    "            losses += [x]\n",
    "            if print_logs:\n",
    "                print(f\"Epoch {epoch} | val loss {x['val']:.3f} | Time {batch_time:.3f} | ETA in seconds {batch_time * (config['epochs'] - epoch)/config['log_interval'] :.3f}\")\n",
    "            start_time = time.time()\n",
    "\n",
    "            if scheduler:\n",
    "                print(\"lr: \", scheduler.get_lr())\n",
    "\n",
    "    # print(pd.DataFrame(losses))\n",
    "    print(\"validation loss: \", losses[-1]['val'])\n",
    "    return pd.DataFrame(losses).plot()\n",
    "\n",
    "train(model, optimizer)"
   ]
  },
  {
   "cell_type": "code",
   "execution_count": 48,
   "metadata": {},
   "outputs": [
    {
     "data": {
      "text/plain": [
       "['\\n\\nTifes fout d, an hte, te wion',\n",
       " '\\nMORGHAy cy alco k, mem rberr t',\n",
       " '\\nBull winoosthioman nghe hest, ',\n",
       " '\\nCoure;\\nFo chon, f w s t t.\\n\\nWA',\n",
       " \"\\nUERCLen'd, he pry hed t for\\nWh\"]"
      ]
     },
     "execution_count": 48,
     "metadata": {},
     "output_type": "execute_result"
    }
   ],
   "source": [
    "def generate(model, config=MASTER_CONFIG, max_new_tokens=30):\n",
    "    idx = torch.zeros(5, 1).long()\n",
    "    for _ in range(max_new_tokens):\n",
    "        # call the model\n",
    "        logits = model(idx[:, -config['context_window']:])\n",
    "        # logits = model(idx[:, -1:])\n",
    "        last_time_step_logits = logits[\n",
    "            :, -1, :\n",
    "        ]  # all the batches (1), last time step, all the logits\n",
    "        p = F.softmax(last_time_step_logits, dim=-1)  # softmax to get probabilities\n",
    "        idx_next = torch.multinomial(\n",
    "            p, num_samples=1\n",
    "        )  # sample from the distribution to get the next token\n",
    "        idx = torch.cat([idx, idx_next], dim=-1)  # append to the sequence\n",
    "    \n",
    "    return [decode(x) for x in idx.tolist()]\n",
    "\n",
    "generate(model)"
   ]
  },
  {
   "cell_type": "markdown",
   "metadata": {},
   "source": [
    "## Llama specifics"
   ]
  },
  {
   "cell_type": "markdown",
   "metadata": {},
   "source": [
    "### RMSNorm"
   ]
  },
  {
   "cell_type": "code",
   "execution_count": 49,
   "metadata": {},
   "outputs": [
    {
     "name": "stdout",
     "output_type": "stream",
     "text": [
      "torch.Size([5, 11, 13])\n"
     ]
    }
   ],
   "source": [
    "class RMSNorm(nn.Module):\n",
    "    def __init__(self, layer_shape, eps=1e-8, bias=False):\n",
    "        super(RMSNorm, self).__init__()\n",
    "        # self.register_parameter(\"scale\", nn.Parameter(torch.ones(layer_shape)))\n",
    "        self.scale = nn.Parameter(torch.ones(layer_shape))\n",
    "\n",
    "    def forward(self, x):\n",
    "        \"\"\"\n",
    "        assumes shape is (batch, seq_len, d_model)\n",
    "        \"\"\"\n",
    "        # frob norm is not the same as RMS. RMS = 1/sqrt(N) * frob norm\n",
    "        ff_rms = torch.linalg.norm(x, dim=(1,2)) * x[0].numel() ** -.5\n",
    "        raw = x / ff_rms.unsqueeze(-1).unsqueeze(-1)\n",
    "        return self.scale[:x.shape[1], :].unsqueeze(0) * raw # todo: self.scale[:x.shape[1], :] -> self.scale\n",
    "\n",
    "config = {\n",
    "    'batch_size': 5,\n",
    "    'context_window': 11,\n",
    "    'd_model': 13,\n",
    "}\n",
    "batch = torch.randn((config['batch_size'], config['context_window'], config['d_model']))\n",
    "m = RMSNorm((config['context_window'], config['d_model']))\n",
    "g = m(batch)\n",
    "print(g.shape)"
   ]
  },
  {
   "cell_type": "markdown",
   "metadata": {},
   "source": [
    "#### Test"
   ]
  },
  {
   "cell_type": "code",
   "execution_count": 50,
   "metadata": {},
   "outputs": [],
   "source": [
    "# scaled_batch.var(dim=(1,2))\n",
    "assert torch.linalg.norm( torch.arange(5).float() ) == (torch.arange(5).float() ** 2 ).sum() ** .5\n",
    "rms = torch.linalg.norm( torch.arange(5).float() ) * (torch.arange(5).numel() ** -.5)\n",
    "assert torch.allclose(torch.linalg.norm(torch.arange(5).float() / rms), torch.tensor(5 ** .5))\n",
    "ff_rms = torch.linalg.norm(batch, dim=(1,2)) * batch.shape[1:].numel() ** -.5\n",
    "\n",
    "# RMS for sure\n",
    "ffx = torch.zeros_like(batch)\n",
    "for i in range(batch.shape[0]):\n",
    "    ffx[i] = batch[i] / ff_rms[i]\n",
    "assert torch.allclose(torch.linalg.norm(ffx, dim=(1,2)) ** 2, torch.tensor(143).float())\n",
    "assert torch.allclose(ffx, g)"
   ]
  },
  {
   "cell_type": "markdown",
   "metadata": {},
   "source": [
    "#### SimpleModel_RMS"
   ]
  },
  {
   "cell_type": "code",
   "execution_count": 51,
   "metadata": {},
   "outputs": [
    {
     "name": "stdout",
     "output_type": "stream",
     "text": [
      "model params: 35265\n",
      "validation loss:  2.5261898756027223\n"
     ]
    },
    {
     "data": {
      "text/plain": [
       "<Axes: >"
      ]
     },
     "execution_count": 51,
     "metadata": {},
     "output_type": "execute_result"
    },
    {
     "data": {
      "image/png": "[encoded data removed]",
      "text/plain": [
       "<Figure size 640x480 with 1 Axes>"
      ]
     },
     "metadata": {},
     "output_type": "display_data"
    }
   ],
   "source": [
    "class SimpleModel_RMS(nn.Module):\n",
    "    def __init__(self, config):\n",
    "        super().__init__()\n",
    "        self.config = config\n",
    "\n",
    "        self.embedding = nn.Embedding(config['vocab_size'], config['d_model'])\n",
    "        self.rms = RMSNorm((config['context_window'], config['d_model']))\n",
    "        self.linear = nn.Sequential(\n",
    "            nn.Linear(config['d_model'], config['d_model']),\n",
    "            nn.ReLU(),\n",
    "            nn.Linear(config['d_model'], config['vocab_size']),\n",
    "        )\n",
    "\n",
    "        print(\"model params:\", sum([m.numel() for m in self.parameters()]))\n",
    "\n",
    "    def forward(self, idx, targets=None):\n",
    "        x = self.embedding(idx)\n",
    "        x = self.rms(x) # rms pre-normalization\n",
    "        logits = self.linear(x)\n",
    "\n",
    "        if targets is not None:\n",
    "            loss = F.cross_entropy(logits.view(-1, self.config['vocab_size']), targets.view(-1))\n",
    "            return logits, loss\n",
    "\n",
    "        else:\n",
    "            return logits\n",
    "\n",
    "model = SimpleModel_RMS(MASTER_CONFIG)\n",
    "xs, ys = get_batches(dataset, 'train', MASTER_CONFIG['batch_size'], MASTER_CONFIG['context_window'])\n",
    "\n",
    "logits, loss = model(xs, ys)\n",
    "optimizer = torch.optim.Adam(model.parameters())\n",
    "train(model, optimizer)"
   ]
  },
  {
   "cell_type": "markdown",
   "metadata": {},
   "source": [
    "### Rotary Embeddings"
   ]
  },
  {
   "cell_type": "code",
   "execution_count": 52,
   "metadata": {},
   "outputs": [],
   "source": [
    "def get_rotary_matrix(context_window, embedding_dim):\n",
    "    R = torch.zeros((context_window, embedding_dim, embedding_dim), requires_grad=False)\n",
    "    for position in range(context_window):\n",
    "        for i in range(embedding_dim//2):\n",
    "            theta = 10000. ** (-2.*(i - 1) / embedding_dim)\n",
    "            m_theta = position * theta\n",
    "            R[position, 2*i,2*i] = np.cos(m_theta)\n",
    "            R[position, 2*i,2*i+1] = - np.sin(m_theta)\n",
    "            R[position, 2*i+1,2*i] = np.sin(m_theta)\n",
    "            R[position, 2*i+1,2*i+1] = np.cos(m_theta)\n",
    "    return R"
   ]
  },
  {
   "cell_type": "code",
   "execution_count": 53,
   "metadata": {},
   "outputs": [
    {
     "data": {
      "image/png": "[encoded data removed]",
      "text/plain": [
       "<Figure size 900x1200 with 9 Axes>"
      ]
     },
     "metadata": {},
     "output_type": "display_data"
    }
   ],
   "source": [
    "K = 3\n",
    "config = {\n",
    "    'batch_size': 10,\n",
    "    'd_model': 32,\n",
    "    'n_heads': 8,\n",
    "    'context_window': K**2,\n",
    "}\n",
    "batch = torch.randn(1, config['context_window'], config['d_model'])\n",
    "R = get_rotary_matrix(config['context_window'], config['d_model'])\n",
    "fig, ax = plt.subplots(K, K, figsize=(K * 3, K * 4))\n",
    "\n",
    "for i in range(K):\n",
    "    for j in range(K):\n",
    "        ax[i, j].imshow(R[i * K + j, :, :].detach().numpy())\n",
    "        ax[i, j].set_title(f'rotation at {i * K + j}')"
   ]
  },
  {
   "cell_type": "markdown",
   "metadata": {},
   "source": [
    "#### Test"
   ]
  },
  {
   "cell_type": "code",
   "execution_count": 54,
   "metadata": {},
   "outputs": [],
   "source": [
    "config = {\n",
    "    'd_model': 128,\n",
    "    'context_window': 16,\n",
    "}\n",
    "\n",
    "R = get_rotary_matrix(config['context_window'], config['d_model'])\n",
    "x = torch.randn(config['d_model'])\n",
    "y = torch.randn(config['d_model'])\n",
    "\n",
    "m = 3\n",
    "n = 13\n",
    "\n",
    "x_m = R[m,:,:] @ x\n",
    "x_n = R[n,:,:] @ y\n",
    "\n",
    "assert torch.isclose(x_m @ x_n, x @ R[n-m,:,:] @ y)"
   ]
  },
  {
   "cell_type": "markdown",
   "metadata": {},
   "source": [
    "#### RoPEAttentionHead"
   ]
  },
  {
   "cell_type": "code",
   "execution_count": 55,
   "metadata": {},
   "outputs": [],
   "source": [
    "config = {\n",
    "    'batch_size': 10,\n",
    "    'd_model': 512,\n",
    "    'n_heads': 8,\n",
    "    'context_window': 16,\n",
    "}\n",
    "\n",
    "class RoPEAttentionHead(nn.Module):\n",
    "    def __init__(self, config):\n",
    "        super().__init__()\n",
    "        self.config = config\n",
    "        self.w_q = nn.Linear(config['d_model'], config['d_model'], bias=False)\n",
    "        self.w_k = nn.Linear(config['d_model'], config['d_model'], bias=False)\n",
    "        self.w_v = nn.Linear(config['d_model'], config['d_model'], bias=False)\n",
    "\n",
    "        self.R = get_rotary_matrix(config['context_window'], config['d_model'])\n",
    "\n",
    "    def get_rotary_matrix(context_window, embedding_dim):\n",
    "        R = torch.zeros((context_window, embedding_dim, embedding_dim), requires_grad=False)\n",
    "        for position in range(context_window):\n",
    "            for i in range(embedding_dim//2):\n",
    "                theta = 10000. ** (-2.*(i - 1) / embedding_dim)\n",
    "                m_theta = position * theta\n",
    "                R[position, 2*i,2*i] = np.cos(m_theta)\n",
    "                R[position, 2*i,2*i+1] = - np.sin(m_theta)\n",
    "                R[position, 2*i+1,2*i] = np.sin(m_theta)\n",
    "                R[position, 2*i+1,2*i+1] = np.cos(m_theta)\n",
    "        return R\n",
    "\n",
    "    def forward(self, x, return_attn_weights=False):\n",
    "        b, m, d = x.shape\n",
    "        \n",
    "        q = self.w_q(x)\n",
    "        k = self.w_k(x)\n",
    "        v = self.w_v(x)\n",
    "\n",
    "        q_rotated = (torch.bmm(q.transpose(0,1), self.R[:m])).transpose(0,1)\n",
    "        k_rotated = (torch.bmm(k.transpose(0,1), self.R[:m])).transpose(0,1)\n",
    "\n",
    "        activations = F.scaled_dot_product_attention(\n",
    "            q_rotated, k_rotated, v, dropout_p =.1, is_causal=True\n",
    "        )\n",
    "        \n",
    "\n",
    "        if return_attn_weights:\n",
    "            attn_mask = torch.tril(torch.ones((m,m)), diagonal=0)\n",
    "            attn_weights = torch.bmm(q_rotated, k_rotated.transpose(1,2)) / np.sqrt(d) + attn_mask\n",
    "            # print(torch.exp(attn_weights[1][0])/torch.exp(attn_weights[1][0]).sum())\n",
    "            attn_weights = F.softmax(attn_weights, dim=-1)\n",
    "            # print(attn_weights[1][0])\n",
    "            return activations, attn_weights\n",
    "        return activations\n",
    "\n",
    "layer = RoPEAttentionHead(config)\n",
    "batch = torch.randn((config['batch_size'], config['context_window'], config['d_model']))\n",
    "output, attn_weights = layer(batch, return_attn_weights=True)"
   ]
  },
  {
   "cell_type": "code",
   "execution_count": 56,
   "metadata": {},
   "outputs": [
    {
     "data": {
      "text/plain": [
       "<matplotlib.colorbar.Colorbar at 0x7fa3701caac0>"
      ]
     },
     "execution_count": 56,
     "metadata": {},
     "output_type": "execute_result"
    },
    {
     "data": {
      "image/png": "[encoded data removed]",
      "text/plain": [
       "<Figure size 640x480 with 2 Axes>"
      ]
     },
     "metadata": {},
     "output_type": "display_data"
    }
   ],
   "source": [
    "layer = RoPEAttentionHead(MASTER_CONFIG)\n",
    "batch = torch.ones((MASTER_CONFIG['batch_size'], MASTER_CONFIG['context_window'], MASTER_CONFIG['d_model']))\n",
    "output, attn_weights = layer(batch, return_attn_weights=True)\n",
    "\n",
    "plt.imshow(attn_weights[0].detach().numpy())\n",
    "plt.colorbar()"
   ]
  },
  {
   "cell_type": "code",
   "execution_count": 57,
   "metadata": {},
   "outputs": [
    {
     "data": {
      "text/plain": [
       "torch.Size([32, 64, 128])"
      ]
     },
     "execution_count": 57,
     "metadata": {},
     "output_type": "execute_result"
    }
   ],
   "source": [
    "# Attention Implementation\n",
    "\n",
    "batch_size, context_length, embedding_size = 32, 64, 128\n",
    "\n",
    "x = torch.randn((batch_size, context_length, embedding_size))\n",
    "W_q = torch.randn((embedding_size, embedding_size))\n",
    "W_k = torch.randn((embedding_size, embedding_size))\n",
    "W_v = torch.randn((embedding_size, embedding_size))\n",
    "\n",
    "q = x @ W_q\n",
    "k = x @ W_k\n",
    "v = x @ W_v\n",
    "attn_weights = (q @ k.transpose(1,2)) / np.sqrt(embedding_size)\n",
    "activations = attn_weights @ v\n",
    "activations.shape"
   ]
  },
  {
   "cell_type": "markdown",
   "metadata": {},
   "source": [
    "#### Multi-Head"
   ]
  },
  {
   "cell_type": "code",
   "execution_count": 58,
   "metadata": {},
   "outputs": [
    {
     "data": {
      "text/plain": [
       "torch.Size([32, 16, 128])"
      ]
     },
     "execution_count": 58,
     "metadata": {},
     "output_type": "execute_result"
    }
   ],
   "source": [
    "# definitely there's an optimization we could make where we cache the rotation matrices, but skip.\n",
    "class RoPEMaskedMultiheadAttention(nn.Module):\n",
    "    def __init__(self, config):\n",
    "        super().__init__()\n",
    "        self.config = config\n",
    "        self.heads = nn.ModuleList([\n",
    "            RoPEAttentionHead(config) for _ in range(config['n_heads'])\n",
    "        ])\n",
    "        self.linear = nn.Linear(config['n_heads'] * config['d_model'], config['d_model'])\n",
    "        self.dropout = nn.Dropout(.1)\n",
    "\n",
    "    def forward(self, x):\n",
    "        heads = [h(x) for h in self.heads]\n",
    "        x = torch.cat(heads, dim=-1)\n",
    "        x = self.linear(x)\n",
    "        x = self.dropout(x)\n",
    "        return x\n",
    "\n",
    "MASTER_CONFIG.update({\n",
    "    'n_heads': 8,\n",
    "})\n",
    "layer = RoPEMaskedMultiheadAttention(MASTER_CONFIG)\n",
    "batch = torch.ones((MASTER_CONFIG['batch_size'], MASTER_CONFIG['context_window'], MASTER_CONFIG['d_model']))\n",
    "output = layer(batch)\n",
    "output.shape"
   ]
  },
  {
   "cell_type": "code",
   "execution_count": 59,
   "metadata": {},
   "outputs": [
    {
     "name": "stdout",
     "output_type": "stream",
     "text": [
      "model params: 559681\n"
     ]
    }
   ],
   "source": [
    "class RopeModel(nn.Module):\n",
    "    def __init__(self, config):\n",
    "        super().__init__()\n",
    "        self.config = config\n",
    "\n",
    "        self.embedding = nn.Embedding(config['vocab_size'], config['d_model'])\n",
    "        self.rms = RMSNorm((config['context_window'], config['d_model']))\n",
    "        self.rope_attention = RoPEMaskedMultiheadAttention(config)\n",
    "\n",
    "        self.linear = nn.Sequential(\n",
    "            nn.Linear(config['d_model'], config['d_model']),\n",
    "            nn.ReLU(),\n",
    "        )\n",
    "\n",
    "        self.last_linear = nn.Linear(config['d_model'], config['vocab_size'])\n",
    "\n",
    "        print(\"model params:\", sum([m.numel() for m in self.parameters()]))\n",
    "\n",
    "    def forward(self, idx, targets=None):\n",
    "        x = self.embedding(idx)\n",
    "\n",
    "        # one block of attention\n",
    "        x = self.rms(x) # rms pre-normalization\n",
    "        x = x + self.rope_attention(x)\n",
    "\n",
    "        x = self.rms(x) # rms pre-normalization\n",
    "        x = x + self.linear(x)\n",
    "\n",
    "        logits = self.last_linear(x)\n",
    "\n",
    "        if targets is not None:\n",
    "            loss = F.cross_entropy(logits.view(-1, self.config['vocab_size']), targets.view(-1))\n",
    "            return logits, loss\n",
    "\n",
    "        else:\n",
    "            return logits\n",
    "\n",
    "model = RopeModel(MASTER_CONFIG)\n",
    "xs, ys = get_batches(dataset, 'train', MASTER_CONFIG['batch_size'], MASTER_CONFIG['context_window'])\n",
    "logits, loss = model(xs, ys)\n",
    "optimizer = torch.optim.Adam(model.parameters())"
   ]
  },
  {
   "cell_type": "code",
   "execution_count": 60,
   "metadata": {},
   "outputs": [
    {
     "name": "stdout",
     "output_type": "stream",
     "text": [
      "Epoch 0 | val loss 4.064 | Time 0.047 | ETA in seconds 2.366\n",
      "Epoch 100 | val loss 2.436 | Time 1.765 | ETA in seconds 86.505\n",
      "Epoch 200 | val loss 2.326 | Time 1.816 | ETA in seconds 87.174\n",
      "Epoch 300 | val loss 2.276 | Time 1.776 | ETA in seconds 83.451\n",
      "Epoch 400 | val loss 2.200 | Time 1.862 | ETA in seconds 85.656\n",
      "Epoch 500 | val loss 2.163 | Time 1.724 | ETA in seconds 77.600\n",
      "Epoch 600 | val loss 2.168 | Time 2.179 | ETA in seconds 95.883\n",
      "Epoch 700 | val loss 2.112 | Time 3.538 | ETA in seconds 152.118\n",
      "Epoch 800 | val loss 2.096 | Time 3.940 | ETA in seconds 165.497\n",
      "Epoch 900 | val loss 2.103 | Time 5.402 | ETA in seconds 221.484\n",
      "Epoch 1000 | val loss 2.062 | Time 4.053 | ETA in seconds 162.117\n",
      "Epoch 1100 | val loss 2.088 | Time 3.971 | ETA in seconds 154.877\n",
      "Epoch 1200 | val loss 2.082 | Time 4.085 | ETA in seconds 155.229\n",
      "Epoch 1300 | val loss 2.049 | Time 4.274 | ETA in seconds 158.128\n",
      "Epoch 1400 | val loss 2.052 | Time 4.149 | ETA in seconds 149.376\n",
      "Epoch 1500 | val loss 2.098 | Time 4.391 | ETA in seconds 153.693\n",
      "Epoch 1600 | val loss 2.066 | Time 4.400 | ETA in seconds 149.588\n",
      "Epoch 1700 | val loss 2.014 | Time 5.484 | ETA in seconds 180.984\n",
      "Epoch 1800 | val loss 2.029 | Time 7.367 | ETA in seconds 235.728\n",
      "Epoch 1900 | val loss 2.005 | Time 4.798 | ETA in seconds 148.741\n",
      "Epoch 2000 | val loss 2.074 | Time 4.268 | ETA in seconds 128.036\n",
      "Epoch 2100 | val loss 2.004 | Time 5.305 | ETA in seconds 153.852\n",
      "Epoch 2200 | val loss 2.007 | Time 4.878 | ETA in seconds 136.587\n",
      "Epoch 2300 | val loss 1.954 | Time 5.012 | ETA in seconds 135.329\n",
      "Epoch 2400 | val loss 2.044 | Time 4.873 | ETA in seconds 126.703\n",
      "Epoch 2500 | val loss 2.007 | Time 4.776 | ETA in seconds 119.405\n",
      "Epoch 2600 | val loss 1.958 | Time 5.144 | ETA in seconds 123.453\n",
      "Epoch 2700 | val loss 2.014 | Time 5.045 | ETA in seconds 116.025\n",
      "Epoch 2800 | val loss 1.987 | Time 4.692 | ETA in seconds 103.233\n",
      "Epoch 2900 | val loss 1.952 | Time 4.780 | ETA in seconds 100.370\n",
      "Epoch 3000 | val loss 1.974 | Time 5.149 | ETA in seconds 102.978\n",
      "Epoch 3100 | val loss 1.961 | Time 4.833 | ETA in seconds 91.821\n",
      "Epoch 3200 | val loss 1.994 | Time 4.530 | ETA in seconds 81.547\n",
      "Epoch 3300 | val loss 1.960 | Time 4.820 | ETA in seconds 81.932\n",
      "Epoch 3400 | val loss 1.971 | Time 4.601 | ETA in seconds 73.609\n",
      "Epoch 3500 | val loss 1.947 | Time 4.442 | ETA in seconds 66.636\n",
      "Epoch 3600 | val loss 1.934 | Time 4.306 | ETA in seconds 60.277\n",
      "Epoch 3700 | val loss 1.939 | Time 4.834 | ETA in seconds 62.848\n",
      "Epoch 3800 | val loss 1.974 | Time 4.863 | ETA in seconds 58.361\n",
      "Epoch 3900 | val loss 1.954 | Time 4.999 | ETA in seconds 54.986\n",
      "Epoch 4000 | val loss 1.915 | Time 5.337 | ETA in seconds 53.369\n",
      "Epoch 4100 | val loss 1.955 | Time 4.682 | ETA in seconds 42.134\n",
      "Epoch 4200 | val loss 1.938 | Time 5.012 | ETA in seconds 40.096\n",
      "Epoch 4300 | val loss 1.943 | Time 4.569 | ETA in seconds 31.980\n",
      "Epoch 4400 | val loss 1.921 | Time 4.795 | ETA in seconds 28.771\n",
      "Epoch 4500 | val loss 1.936 | Time 4.638 | ETA in seconds 23.189\n",
      "Epoch 4600 | val loss 1.910 | Time 5.839 | ETA in seconds 23.356\n",
      "Epoch 4700 | val loss 1.917 | Time 4.954 | ETA in seconds 14.862\n",
      "Epoch 4800 | val loss 1.931 | Time 5.126 | ETA in seconds 10.251\n",
      "Epoch 4900 | val loss 1.918 | Time 4.384 | ETA in seconds 4.384\n",
      "validation loss:  1.917777919769287\n"
     ]
    },
    {
     "data": {
      "text/plain": [
       "<Axes: >"
      ]
     },
     "execution_count": 60,
     "metadata": {},
     "output_type": "execute_result"
    },
    {
     "data": {
      "image/png": "[encoded data removed]",
      "text/plain": [
       "<Figure size 640x480 with 1 Axes>"
      ]
     },
     "metadata": {},
     "output_type": "display_data"
    }
   ],
   "source": [
    "MASTER_CONFIG.update({\n",
    "    \"epochs\": 5000,\n",
    "})\n",
    "train(model, optimizer,print_logs=True)"
   ]
  },
  {
   "cell_type": "code",
   "execution_count": 61,
   "metadata": {},
   "outputs": [
    {
     "data": {
      "text/plain": [
       "['\\nTo be the hofserven like me op',\n",
       " '\\nBe the sto that I am the sorip',\n",
       " '\\nThe to ratry! disdencerve the ',\n",
       " '\\nAnd proye he pray,\\nUnchas bot ',\n",
       " '\\nWhat give dispure: joy hammno ']"
      ]
     },
     "execution_count": 61,
     "metadata": {},
     "output_type": "execute_result"
    }
   ],
   "source": [
    "generate(model, config=MASTER_CONFIG)"
   ]
  },
  {
   "cell_type": "markdown",
   "metadata": {},
   "source": [
    "## SwiGLU"
   ]
  },
  {
   "cell_type": "code",
   "execution_count": 62,
   "metadata": {},
   "outputs": [],
   "source": [
    "class SwiGLU(nn.Module):\n",
    "    \"\"\"\n",
    "    Swish-Gated Linear Unit\n",
    "    https://arxiv.org/pdf/2002.05202v1.pdf\n",
    "    \"\"\"\n",
    "    def __init__(self, size):\n",
    "        super().__init__()\n",
    "        self.config = config\n",
    "        self.linear_gate = nn.Linear(size, size)\n",
    "        self.linear = nn.Linear(size, size)\n",
    "        # self.beta = torch.randn(1, requires_grad=True)\n",
    "\n",
    "        self.beta = torch.ones(1, requires_grad=True)\n",
    "        # nn.Parameter(torch.ones(1))\n",
    "        # self.register_parameter(\"beta\", self.beta)\n",
    "\n",
    "    def forward(self, x): \n",
    "        swish_gate = self.linear_gate(x) * torch.sigmoid(self.beta * self.linear_gate(x))\n",
    "        out = swish_gate * self.linear(x)\n",
    "        return out"
   ]
  },
  {
   "cell_type": "code",
   "execution_count": 63,
   "metadata": {},
   "outputs": [
    {
     "name": "stdout",
     "output_type": "stream",
     "text": [
      "model params: 592705\n",
      "Epoch 0 | val loss 4.108 | Time 0.098 | ETA in seconds 4.917\n",
      "Epoch 100 | val loss 2.484 | Time 4.403 | ETA in seconds 215.746\n",
      "Epoch 200 | val loss 2.314 | Time 5.015 | ETA in seconds 240.716\n",
      "Epoch 300 | val loss 2.259 | Time 4.817 | ETA in seconds 226.421\n",
      "Epoch 400 | val loss 2.178 | Time 5.136 | ETA in seconds 236.279\n",
      "Epoch 500 | val loss 2.144 | Time 9.155 | ETA in seconds 411.994\n",
      "Epoch 600 | val loss 2.139 | Time 5.025 | ETA in seconds 221.120\n",
      "Epoch 700 | val loss 2.124 | Time 4.751 | ETA in seconds 204.286\n",
      "Epoch 800 | val loss 2.100 | Time 4.655 | ETA in seconds 195.515\n",
      "Epoch 900 | val loss 2.094 | Time 4.801 | ETA in seconds 196.846\n",
      "Epoch 1000 | val loss 2.075 | Time 4.253 | ETA in seconds 170.128\n",
      "Epoch 1100 | val loss 2.035 | Time 4.270 | ETA in seconds 166.512\n",
      "Epoch 1200 | val loss 2.064 | Time 4.545 | ETA in seconds 172.727\n",
      "Epoch 1300 | val loss 2.066 | Time 5.992 | ETA in seconds 221.707\n",
      "Epoch 1400 | val loss 2.028 | Time 4.659 | ETA in seconds 167.730\n",
      "Epoch 1500 | val loss 2.014 | Time 6.348 | ETA in seconds 222.186\n",
      "Epoch 1600 | val loss 2.033 | Time 5.016 | ETA in seconds 170.554\n",
      "Epoch 1700 | val loss 2.013 | Time 5.838 | ETA in seconds 192.663\n",
      "Epoch 1800 | val loss 2.008 | Time 5.717 | ETA in seconds 182.944\n",
      "Epoch 1900 | val loss 1.981 | Time 4.610 | ETA in seconds 142.911\n",
      "Epoch 2000 | val loss 1.994 | Time 4.693 | ETA in seconds 140.790\n",
      "Epoch 2100 | val loss 1.961 | Time 4.270 | ETA in seconds 123.840\n",
      "Epoch 2200 | val loss 1.983 | Time 4.863 | ETA in seconds 136.158\n",
      "Epoch 2300 | val loss 2.000 | Time 4.945 | ETA in seconds 133.508\n",
      "Epoch 2400 | val loss 1.990 | Time 4.819 | ETA in seconds 125.287\n",
      "Epoch 2500 | val loss 1.959 | Time 4.659 | ETA in seconds 116.473\n",
      "Epoch 2600 | val loss 1.965 | Time 4.743 | ETA in seconds 113.829\n",
      "Epoch 2700 | val loss 1.931 | Time 4.666 | ETA in seconds 107.325\n",
      "Epoch 2800 | val loss 1.965 | Time 4.854 | ETA in seconds 106.796\n",
      "Epoch 2900 | val loss 1.955 | Time 5.120 | ETA in seconds 107.518\n",
      "Epoch 3000 | val loss 1.956 | Time 4.990 | ETA in seconds 99.799\n",
      "Epoch 3100 | val loss 1.985 | Time 4.416 | ETA in seconds 83.895\n",
      "Epoch 3200 | val loss 1.929 | Time 4.989 | ETA in seconds 89.804\n",
      "Epoch 3300 | val loss 1.929 | Time 5.283 | ETA in seconds 89.805\n",
      "Epoch 3400 | val loss 1.929 | Time 4.581 | ETA in seconds 73.300\n",
      "Epoch 3500 | val loss 1.956 | Time 4.563 | ETA in seconds 68.440\n",
      "Epoch 3600 | val loss 1.929 | Time 4.619 | ETA in seconds 64.664\n",
      "Epoch 3700 | val loss 1.908 | Time 4.951 | ETA in seconds 64.360\n",
      "Epoch 3800 | val loss 1.954 | Time 5.097 | ETA in seconds 61.161\n",
      "Epoch 3900 | val loss 1.947 | Time 5.315 | ETA in seconds 58.468\n",
      "Epoch 4000 | val loss 2.003 | Time 5.201 | ETA in seconds 52.014\n",
      "Epoch 4100 | val loss 1.933 | Time 5.234 | ETA in seconds 47.103\n",
      "Epoch 4200 | val loss 1.910 | Time 4.917 | ETA in seconds 39.336\n",
      "Epoch 4300 | val loss 1.898 | Time 4.800 | ETA in seconds 33.603\n",
      "Epoch 4400 | val loss 1.929 | Time 5.344 | ETA in seconds 32.065\n",
      "Epoch 4500 | val loss 1.916 | Time 4.829 | ETA in seconds 24.143\n",
      "Epoch 4600 | val loss 1.926 | Time 4.758 | ETA in seconds 19.032\n",
      "Epoch 4700 | val loss 1.919 | Time 4.567 | ETA in seconds 13.702\n",
      "Epoch 4800 | val loss 1.992 | Time 4.724 | ETA in seconds 9.447\n",
      "Epoch 4900 | val loss 1.972 | Time 4.531 | ETA in seconds 4.531\n",
      "validation loss:  1.9716862797737122\n"
     ]
    },
    {
     "data": {
      "text/plain": [
       "<Axes: >"
      ]
     },
     "execution_count": 63,
     "metadata": {},
     "output_type": "execute_result"
    },
    {
     "data": {
      "image/png": "[encoded data removed]",
      "text/plain": [
       "<Figure size 640x480 with 1 Axes>"
      ]
     },
     "metadata": {},
     "output_type": "display_data"
    }
   ],
   "source": [
    "class RopeModel(nn.Module):\n",
    "    def __init__(self, config):\n",
    "        super().__init__()\n",
    "        self.config = config\n",
    "\n",
    "        self.embedding = nn.Embedding(config['vocab_size'], config['d_model'])\n",
    "        self.rms = RMSNorm((config['context_window'], config['d_model']))\n",
    "        self.rope_attention = RoPEMaskedMultiheadAttention(config)\n",
    "\n",
    "        self.linear = nn.Sequential(\n",
    "            nn.Linear(config['d_model'], config['d_model']),\n",
    "            SwiGLU(config['d_model']),\n",
    "        )\n",
    "\n",
    "        self.last_linear = nn.Linear(config['d_model'], config['vocab_size'])\n",
    "\n",
    "        print(\"model params:\", sum([m.numel() for m in self.parameters()]))\n",
    "\n",
    "    def forward(self, idx, targets=None):\n",
    "        x = self.embedding(idx)\n",
    "\n",
    "        # one block of attention\n",
    "        x = self.rms(x) # rms pre-normalization\n",
    "        x = x + self.rope_attention(x)\n",
    "\n",
    "        x = self.rms(x) # rms pre-normalization\n",
    "        x = x + self.linear(x)\n",
    "\n",
    "        logits = self.last_linear(x)\n",
    "\n",
    "        if targets is not None:\n",
    "            loss = F.cross_entropy(logits.view(-1, self.config['vocab_size']), targets.view(-1))\n",
    "            return logits, loss\n",
    "\n",
    "        else:\n",
    "            return logits\n",
    "\n",
    "model = RopeModel(MASTER_CONFIG)\n",
    "xs, ys = get_batches(dataset, 'train', MASTER_CONFIG['batch_size'], MASTER_CONFIG['context_window'])\n",
    "\n",
    "logits, loss = model(xs, ys)\n",
    "optimizer = torch.optim.Adam(model.parameters())\n",
    "train(model, optimizer, print_logs=True)"
   ]
  },
  {
   "cell_type": "code",
   "execution_count": 64,
   "metadata": {},
   "outputs": [
    {
     "data": {
      "text/plain": [
       "['\\nBut his life, do my lal to it ',\n",
       " \"\\n' seve all did, and:\\nSecar, bu\",\n",
       " '\\nIf you have it the pare bow, I',\n",
       " '\\nBerd be not ithous bower.\\n\\nWAR',\n",
       " '\\nShould dur oveere magane that ']"
      ]
     },
     "execution_count": 64,
     "metadata": {},
     "output_type": "execute_result"
    }
   ],
   "source": [
    "generate(model, config=MASTER_CONFIG)"
   ]
  },
  {
   "cell_type": "markdown",
   "metadata": {},
   "source": [
    "## Final LLaMa"
   ]
  },
  {
   "cell_type": "code",
   "execution_count": 65,
   "metadata": {},
   "outputs": [],
   "source": [
    "from collections import OrderedDict\n",
    "\n",
    "# add RMSNorm and residual conncection\n",
    "class LlamaBlock(nn.Module):\n",
    "    def __init__(self, config):\n",
    "        super().__init__()\n",
    "        self.config = config\n",
    "\n",
    "        self.rms = RMSNorm((config['context_window'], config['d_model']))\n",
    "\n",
    "        self.attention = RoPEMaskedMultiheadAttention(config)\n",
    "        self.feedforward = nn.Sequential(\n",
    "            nn.Linear(config['d_model'], config['d_model']),\n",
    "            SwiGLU(config['d_model']),\n",
    "        )\n",
    "\n",
    "    def forward(self, x):\n",
    "        x = self.rms(x) # rms pre-normalization\n",
    "        x = x + self.attention(x)\n",
    "\n",
    "        x = self.rms(x) # rms pre-normalization\n",
    "        x = x + self.feedforward(x)\n",
    "        return x\n",
    "\n",
    "class Llama(nn.Module):\n",
    "    def __init__(self, config):\n",
    "        super().__init__()\n",
    "        self.config = config\n",
    "        self.embeddings = nn.Embedding(config['vocab_size'], config['d_model'])\n",
    "        self.llama_blocks = nn.Sequential(\n",
    "            OrderedDict([(f\"llama_{i}\", LlamaBlock(config)) for i in range(config['n_layers'])])\n",
    "        )\n",
    "\n",
    "        self.ffn = nn.Sequential(\n",
    "            nn.Linear(config['d_model'], config['d_model']),\n",
    "            SwiGLU(config['d_model']),\n",
    "            nn.Linear(config['d_model'], config['vocab_size']),\n",
    "        )\n",
    "\n",
    "        print(\"model params:\", sum([m.numel() for m in self.parameters()]))\n",
    "\n",
    "    def forward(self, idx, targets=None):\n",
    "        x = self.embeddings(idx)\n",
    "        x = self.llama_blocks(x)\n",
    "        logits = self.ffn(x)\n",
    "\n",
    "        if targets is None:\n",
    "            return logits\n",
    "\n",
    "        else:\n",
    "            loss = F.cross_entropy(logits.view(-1, self.config['vocab_size']), targets.view(-1))\n",
    "            return logits, loss"
   ]
  },
  {
   "cell_type": "code",
   "execution_count": 66,
   "metadata": {},
   "outputs": [
    {
     "name": "stdout",
     "output_type": "stream",
     "text": [
      "model params: 2370241\n",
      "Epoch 0 | val loss 4.158 | Time 0.317 | ETA in seconds 31.687\n",
      "Epoch 100 | val loss 2.494 | Time 16.497 | ETA in seconds 1633.155\n",
      "Epoch 200 | val loss 2.315 | Time 15.908 | ETA in seconds 1558.937\n",
      "Epoch 300 | val loss 2.127 | Time 15.434 | ETA in seconds 1497.142\n",
      "Epoch 400 | val loss 2.092 | Time 16.834 | ETA in seconds 1616.095\n",
      "Epoch 500 | val loss 2.058 | Time 16.567 | ETA in seconds 1573.836\n",
      "Epoch 600 | val loss 2.049 | Time 15.025 | ETA in seconds 1412.326\n",
      "Epoch 700 | val loss 2.009 | Time 15.861 | ETA in seconds 1475.074\n",
      "Epoch 800 | val loss 1.965 | Time 15.719 | ETA in seconds 1446.167\n",
      "Epoch 900 | val loss 1.981 | Time 15.405 | ETA in seconds 1401.860\n",
      "Epoch 1000 | val loss 1.939 | Time 16.907 | ETA in seconds 1521.655\n",
      "Epoch 1100 | val loss 1.872 | Time 15.854 | ETA in seconds 1410.992\n",
      "Epoch 1200 | val loss 1.878 | Time 16.269 | ETA in seconds 1431.632\n",
      "Epoch 1300 | val loss 1.909 | Time 15.358 | ETA in seconds 1336.168\n",
      "Epoch 1400 | val loss 1.867 | Time 15.118 | ETA in seconds 1300.105\n",
      "Epoch 1500 | val loss 1.821 | Time 21.723 | ETA in seconds 1846.478\n",
      "Epoch 1600 | val loss 1.794 | Time 17.097 | ETA in seconds 1436.158\n",
      "Epoch 1700 | val loss 1.827 | Time 18.805 | ETA in seconds 1560.801\n",
      "Epoch 1800 | val loss 1.855 | Time 14.914 | ETA in seconds 1222.957\n",
      "Epoch 1900 | val loss 1.805 | Time 17.813 | ETA in seconds 1442.815\n",
      "Epoch 2000 | val loss 1.833 | Time 14.913 | ETA in seconds 1193.012\n",
      "Epoch 2100 | val loss 1.760 | Time 14.077 | ETA in seconds 1112.077\n",
      "Epoch 2200 | val loss 1.724 | Time 13.972 | ETA in seconds 1089.818\n",
      "Epoch 2300 | val loss 1.675 | Time 17.635 | ETA in seconds 1357.861\n",
      "Epoch 2400 | val loss 1.736 | Time 16.997 | ETA in seconds 1291.787\n",
      "Epoch 2500 | val loss 1.743 | Time 19.544 | ETA in seconds 1465.774\n",
      "Epoch 2600 | val loss 1.680 | Time 14.822 | ETA in seconds 1096.830\n",
      "Epoch 2700 | val loss 1.751 | Time 15.021 | ETA in seconds 1096.545\n",
      "Epoch 2800 | val loss 1.684 | Time 14.760 | ETA in seconds 1062.697\n",
      "Epoch 2900 | val loss 1.731 | Time 19.288 | ETA in seconds 1369.463\n",
      "Epoch 3000 | val loss 1.674 | Time 20.436 | ETA in seconds 1430.543\n",
      "Epoch 3100 | val loss 1.733 | Time 18.716 | ETA in seconds 1291.407\n",
      "Epoch 3200 | val loss 1.630 | Time 19.516 | ETA in seconds 1327.106\n",
      "Epoch 3300 | val loss 1.695 | Time 19.405 | ETA in seconds 1300.166\n",
      "Epoch 3400 | val loss 1.675 | Time 16.776 | ETA in seconds 1107.217\n",
      "Epoch 3500 | val loss 1.639 | Time 21.527 | ETA in seconds 1399.275\n",
      "Epoch 3600 | val loss 1.686 | Time 19.881 | ETA in seconds 1272.369\n",
      "Epoch 3700 | val loss 1.651 | Time 19.339 | ETA in seconds 1218.337\n",
      "Epoch 3800 | val loss 1.652 | Time 15.451 | ETA in seconds 957.954\n",
      "Epoch 3900 | val loss 1.629 | Time 15.753 | ETA in seconds 960.907\n",
      "Epoch 4000 | val loss 1.618 | Time 16.225 | ETA in seconds 973.484\n",
      "Epoch 4100 | val loss 1.630 | Time 15.051 | ETA in seconds 888.019\n",
      "Epoch 4200 | val loss 1.563 | Time 16.911 | ETA in seconds 980.839\n",
      "Epoch 4300 | val loss 1.618 | Time 14.261 | ETA in seconds 812.897\n",
      "Epoch 4400 | val loss 1.555 | Time 13.368 | ETA in seconds 748.584\n",
      "Epoch 4500 | val loss 1.551 | Time 16.274 | ETA in seconds 895.061\n",
      "Epoch 4600 | val loss 1.599 | Time 15.730 | ETA in seconds 849.401\n",
      "Epoch 4700 | val loss 1.559 | Time 17.081 | ETA in seconds 905.290\n",
      "Epoch 4800 | val loss 1.534 | Time 17.852 | ETA in seconds 928.299\n",
      "Epoch 4900 | val loss 1.581 | Time 16.165 | ETA in seconds 824.418\n",
      "Epoch 5000 | val loss 1.548 | Time 16.760 | ETA in seconds 837.996\n",
      "Epoch 5100 | val loss 1.553 | Time 18.023 | ETA in seconds 883.136\n",
      "Epoch 5200 | val loss 1.504 | Time 18.806 | ETA in seconds 902.666\n",
      "Epoch 5300 | val loss 1.515 | Time 17.460 | ETA in seconds 820.641\n",
      "Epoch 5400 | val loss 1.529 | Time 15.763 | ETA in seconds 725.084\n",
      "Epoch 5500 | val loss 1.492 | Time 15.669 | ETA in seconds 705.103\n",
      "Epoch 5600 | val loss 1.541 | Time 16.545 | ETA in seconds 727.965\n",
      "Epoch 5700 | val loss 1.500 | Time 19.179 | ETA in seconds 824.706\n",
      "Epoch 5800 | val loss 1.498 | Time 17.573 | ETA in seconds 738.085\n",
      "Epoch 5900 | val loss 1.527 | Time 16.636 | ETA in seconds 682.083\n",
      "Epoch 6000 | val loss 1.479 | Time 19.970 | ETA in seconds 798.785\n",
      "Epoch 6100 | val loss 1.472 | Time 19.445 | ETA in seconds 758.336\n",
      "Epoch 6200 | val loss 1.490 | Time 16.453 | ETA in seconds 625.229\n",
      "Epoch 6300 | val loss 1.471 | Time 14.921 | ETA in seconds 552.060\n",
      "Epoch 6400 | val loss 1.448 | Time 14.807 | ETA in seconds 533.036\n",
      "Epoch 6500 | val loss 1.437 | Time 14.801 | ETA in seconds 518.036\n",
      "Epoch 6600 | val loss 1.450 | Time 15.057 | ETA in seconds 511.938\n",
      "Epoch 6700 | val loss 1.445 | Time 16.183 | ETA in seconds 534.036\n",
      "Epoch 6800 | val loss 1.421 | Time 16.501 | ETA in seconds 528.033\n",
      "Epoch 6900 | val loss 1.487 | Time 15.709 | ETA in seconds 486.992\n",
      "Epoch 7000 | val loss 1.426 | Time 18.435 | ETA in seconds 553.060\n",
      "Epoch 7100 | val loss 1.402 | Time 16.632 | ETA in seconds 482.314\n",
      "Epoch 7200 | val loss 1.382 | Time 18.250 | ETA in seconds 511.013\n",
      "Epoch 7300 | val loss 1.366 | Time 18.156 | ETA in seconds 490.200\n",
      "Epoch 7400 | val loss 1.381 | Time 19.264 | ETA in seconds 500.856\n",
      "Epoch 7500 | val loss 1.350 | Time 14.000 | ETA in seconds 350.007\n",
      "Epoch 7600 | val loss 1.385 | Time 8.315 | ETA in seconds 199.558\n",
      "Epoch 7700 | val loss 1.388 | Time 8.323 | ETA in seconds 191.427\n",
      "Epoch 7800 | val loss 1.381 | Time 8.475 | ETA in seconds 186.452\n",
      "Epoch 7900 | val loss 1.339 | Time 8.447 | ETA in seconds 177.382\n",
      "Epoch 8000 | val loss 1.344 | Time 8.506 | ETA in seconds 170.114\n",
      "Epoch 8100 | val loss 1.389 | Time 8.343 | ETA in seconds 158.518\n",
      "Epoch 8200 | val loss 1.359 | Time 8.231 | ETA in seconds 148.164\n",
      "Epoch 8300 | val loss 1.369 | Time 8.384 | ETA in seconds 142.528\n",
      "Epoch 8400 | val loss 1.370 | Time 8.562 | ETA in seconds 136.993\n",
      "Epoch 8500 | val loss 1.322 | Time 8.504 | ETA in seconds 127.564\n",
      "Epoch 8600 | val loss 1.351 | Time 8.470 | ETA in seconds 118.585\n",
      "Epoch 8700 | val loss 1.338 | Time 8.481 | ETA in seconds 110.249\n",
      "Epoch 8800 | val loss 1.299 | Time 8.628 | ETA in seconds 103.540\n",
      "Epoch 8900 | val loss 1.305 | Time 8.439 | ETA in seconds 92.833\n",
      "Epoch 9000 | val loss 1.323 | Time 8.474 | ETA in seconds 84.745\n",
      "Epoch 9100 | val loss 1.382 | Time 8.427 | ETA in seconds 75.845\n",
      "Epoch 9200 | val loss 1.267 | Time 8.498 | ETA in seconds 67.987\n",
      "Epoch 9300 | val loss 1.302 | Time 8.276 | ETA in seconds 57.934\n",
      "Epoch 9400 | val loss 1.311 | Time 8.276 | ETA in seconds 49.656\n",
      "Epoch 9500 | val loss 1.266 | Time 8.490 | ETA in seconds 42.451\n",
      "Epoch 9600 | val loss 1.244 | Time 8.184 | ETA in seconds 32.736\n",
      "Epoch 9700 | val loss 1.302 | Time 8.345 | ETA in seconds 25.035\n",
      "Epoch 9800 | val loss 1.259 | Time 8.165 | ETA in seconds 16.329\n",
      "Epoch 9900 | val loss 1.252 | Time 8.376 | ETA in seconds 8.376\n",
      "validation loss:  1.2517625570297242\n",
      "\n",
      "GGLOUCESTER:\n",
      "Alm they yet he tway bess, wey give bue? I be you arms bustici coy you raling, tilland theave escresed. That good is laves of the ochfor:\n",
      "And would a\n",
      "mays fellow.\n",
      "The have bothe shall's\n",
      "Them my tring bridinus' se is consts hoose alitclity: Lound; po hou partuch, pal them shoot the bird,\n",
      "I\n",
      "KE, at your go stand,\n",
      "that ksear take thiss you power or it lain's grounds.\n",
      "Shave my Pillow his vost have 't, see Edward or woments made kill: famont: Comilight banish\n",
      "Nhir, whill or awo grat!\n",
      "A ve\n"
     ]
    },
    {
     "data": {
      "image/png": "[encoded data removed]",
      "text/plain": [
       "<Figure size 640x480 with 1 Axes>"
      ]
     },
     "metadata": {},
     "output_type": "display_data"
    }
   ],
   "source": [
    "MASTER_CONFIG.update({\n",
    "    'epochs': 10000,\n",
    "    'batch_size': 32,\n",
    "    'd_model': 128,\n",
    "    'n_heads': 8,\n",
    "    'n_layers': 4,\n",
    "    'context_window': 16,\n",
    "    \"log_interval\": 100,\n",
    "})\n",
    "\n",
    "llama = Llama(MASTER_CONFIG)\n",
    "optimizer = torch.optim.Adam(llama.parameters())\n",
    "train(llama, optimizer, config=MASTER_CONFIG,print_logs=True)\n",
    "\n",
    "print(generate(llama, MASTER_CONFIG, 500)[0])\n",
    "torch.save({'model_state_dict': llama.state_dict()}, \"./checkpoint/llama.pth\")"
   ]
  },
  {
   "cell_type": "code",
   "execution_count": 67,
   "metadata": {},
   "outputs": [
    {
     "name": "stdout",
     "output_type": "stream",
     "text": [
      "model params: 2370241\n",
      "\n",
      "MENELIUS:\n",
      "Name, let's pers,\n",
      "Two have by han listring have lishandsleds shilelither,\n",
      "That ownle that rist; yet my face em for some come, suchackly off.\n",
      "Chand an his pen way: part;\n",
      "Take an unscondangeral,\n",
      "Will due'll ray, toing wind your in bemide?\n",
      "\n",
      "EcKENENIUS:\n",
      "Mild; so harrow;\n",
      "Starding brooth know, and away.\n",
      "Thus not stay this rightle my theings fill's time Richard my he men of him\n",
      "Yethan of foul hand, of quarnisint. Has undiffinct yours that come do; fire half thou god when at omper not your bis\n"
     ]
    }
   ],
   "source": [
    "llama_infer = Llama(MASTER_CONFIG)\n",
    "checkpoint = torch.load(\"./checkpoint/llama.pth\")\n",
    "llama_infer.load_state_dict(checkpoint['model_state_dict'])\n",
    "print(generate(llama_infer, MASTER_CONFIG, 500)[0])"
   ]
  },
  {
   "cell_type": "markdown",
   "metadata": {},
   "source": [
    "#### Test"
   ]
  },
  {
   "cell_type": "code",
   "execution_count": 68,
   "metadata": {},
   "outputs": [
    {
     "name": "stdout",
     "output_type": "stream",
     "text": [
      "tensor(1.4658, grad_fn=<NllLossBackward0>)\n"
     ]
    }
   ],
   "source": [
    "xs, ys = get_batches(dataset, 'test', MASTER_CONFIG['batch_size'], MASTER_CONFIG['context_window'])\n",
    "\n",
    "logits, loss = llama(xs, ys)\n",
    "\n",
    "print(loss)"
   ]
  },
  {
   "cell_type": "markdown",
   "metadata": {},
   "source": [
    "## Miscellaneous"
   ]
  },
  {
   "cell_type": "markdown",
   "metadata": {},
   "source": [
    "### Check for Gradient Flows"
   ]
  },
  {
   "cell_type": "code",
   "execution_count": 69,
   "metadata": {},
   "outputs": [
    {
     "data": {
      "text/plain": [
       "[('llama_blocks.llama_3.attention.linear.weight', 24.24163818359375),\n",
       " ('llama_blocks.llama_2.attention.linear.weight', 22.3663330078125),\n",
       " ('llama_blocks.llama_0.attention.linear.weight', 21.83685302734375),\n",
       " ('llama_blocks.llama_1.attention.linear.weight', 19.690704345703125),\n",
       " ('llama_blocks.llama_3.attention.heads.5.w_v.weight', 19.476318359375),\n",
       " ('llama_blocks.llama_3.attention.heads.4.w_v.weight', 19.464111328125),\n",
       " ('llama_blocks.llama_3.attention.heads.0.w_v.weight', 18.212890625),\n",
       " ('llama_blocks.llama_3.attention.heads.7.w_v.weight', 17.7001953125),\n",
       " ('llama_blocks.llama_3.attention.heads.3.w_v.weight', 17.4560546875),\n",
       " ('llama_blocks.llama_3.attention.heads.2.w_v.weight', 16.705322265625),\n",
       " ('llama_blocks.llama_2.attention.heads.1.w_v.weight', 16.50390625),\n",
       " ('llama_blocks.llama_3.attention.heads.6.w_v.weight', 16.40625),\n",
       " ('llama_blocks.llama_3.attention.heads.1.w_v.weight', 16.265869140625),\n",
       " ('llama_blocks.llama_2.attention.heads.3.w_v.weight', 16.2109375),\n",
       " ('llama_blocks.llama_2.attention.heads.0.w_v.weight', 16.17431640625),\n",
       " ('llama_blocks.llama_1.attention.heads.7.w_v.weight', 16.05224609375),\n",
       " ('llama_blocks.llama_2.attention.heads.4.w_v.weight', 15.73486328125),\n",
       " ('llama_blocks.llama_1.attention.heads.0.w_v.weight', 15.655517578125),\n",
       " ('llama_blocks.llama_2.attention.heads.6.w_v.weight', 15.625),\n",
       " ('llama_blocks.llama_1.attention.heads.6.w_v.weight', 15.386962890625),\n",
       " ('llama_blocks.llama_1.attention.heads.4.w_v.weight', 15.362548828125),\n",
       " ('llama_blocks.llama_2.attention.heads.7.w_v.weight', 15.118408203125),\n",
       " ('llama_blocks.llama_1.attention.heads.2.w_v.weight', 15.093994140625),\n",
       " ('llama_blocks.llama_2.attention.heads.2.w_v.weight', 14.90478515625),\n",
       " ('llama_blocks.llama_1.attention.heads.1.w_v.weight', 14.862060546875),\n",
       " ('llama_blocks.llama_1.attention.heads.5.w_v.weight', 14.630126953125),\n",
       " ('llama_blocks.llama_2.attention.heads.5.w_v.weight', 14.508056640625),\n",
       " ('llama_blocks.llama_1.attention.heads.3.w_v.weight', 14.227294921875),\n",
       " ('llama_blocks.llama_0.attention.heads.3.w_v.weight', 14.093017578125),\n",
       " ('llama_blocks.llama_2.feedforward.1.linear_gate.bias', 14.0625),\n",
       " ('llama_blocks.llama_0.attention.heads.7.w_v.weight', 13.78173828125),\n",
       " ('llama_blocks.llama_0.attention.heads.0.w_v.weight', 13.76953125),\n",
       " ('llama_blocks.llama_0.attention.heads.6.w_v.weight', 13.592529296875),\n",
       " ('llama_blocks.llama_0.attention.heads.5.w_v.weight', 13.58642578125),\n",
       " ('llama_blocks.llama_0.attention.heads.4.w_v.weight', 13.28125),\n",
       " ('llama_blocks.llama_0.attention.heads.2.w_v.weight', 12.982177734375),\n",
       " ('llama_blocks.llama_0.attention.heads.1.w_v.weight', 12.738037109375),\n",
       " ('llama_blocks.llama_3.attention.heads.5.w_q.weight', 12.5732421875),\n",
       " ('llama_blocks.llama_0.attention.heads.7.w_q.weight', 12.31689453125),\n",
       " ('llama_blocks.llama_0.attention.heads.3.w_q.weight', 12.24365234375),\n",
       " ('llama_blocks.llama_0.attention.heads.7.w_k.weight', 12.158203125),\n",
       " ('llama_blocks.llama_0.attention.heads.3.w_k.weight', 12.042236328125),\n",
       " ('llama_blocks.llama_3.attention.heads.5.w_k.weight', 11.8896484375),\n",
       " ('llama_blocks.llama_3.attention.heads.4.w_q.weight', 11.749267578125),\n",
       " ('llama_blocks.llama_0.feedforward.0.weight', 11.651611328125),\n",
       " ('llama_blocks.llama_0.attention.heads.5.w_q.weight', 11.46240234375),\n",
       " ('llama_blocks.llama_0.attention.heads.4.w_q.weight', 11.309814453125),\n",
       " ('llama_blocks.llama_0.attention.heads.5.w_k.weight', 11.114501953125),\n",
       " ('llama_blocks.llama_0.attention.heads.0.w_q.weight', 11.041259765625),\n",
       " ('llama_blocks.llama_0.attention.heads.4.w_k.weight', 11.041259765625),\n",
       " ('llama_blocks.llama_0.attention.heads.2.w_q.weight', 11.029052734375),\n",
       " ('llama_blocks.llama_3.attention.heads.4.w_k.weight', 10.97412109375),\n",
       " ('llama_blocks.llama_0.attention.heads.1.w_k.weight', 10.955810546875),\n",
       " ('llama_blocks.llama_0.attention.heads.1.w_q.weight', 10.8642578125),\n",
       " ('llama_blocks.llama_0.attention.heads.0.w_k.weight', 10.8154296875),\n",
       " ('llama_blocks.llama_0.attention.heads.6.w_q.weight', 10.80322265625),\n",
       " ('llama_blocks.llama_1.attention.heads.4.w_q.weight', 10.772705078125),\n",
       " ('llama_blocks.llama_2.attention.heads.0.w_k.weight', 10.699462890625),\n",
       " ('llama_blocks.llama_0.attention.heads.6.w_k.weight', 10.60791015625),\n",
       " ('llama_blocks.llama_0.attention.heads.2.w_k.weight', 10.5224609375),\n",
       " ('llama_blocks.llama_1.feedforward.0.weight', 10.443115234375),\n",
       " ('llama_blocks.llama_3.feedforward.0.weight', 10.394287109375),\n",
       " ('llama_blocks.llama_1.attention.heads.4.w_k.weight', 10.333251953125),\n",
       " ('llama_blocks.llama_0.feedforward.1.linear_gate.weight', 10.284423828125),\n",
       " ('llama_blocks.llama_1.feedforward.1.linear_gate.bias', 10.15625),\n",
       " ('llama_blocks.llama_3.feedforward.1.linear.weight', 10.125732421875),\n",
       " ('llama_blocks.llama_2.attention.heads.0.w_q.weight', 9.9853515625),\n",
       " ('llama_blocks.llama_2.feedforward.0.weight', 9.588623046875),\n",
       " ('llama_blocks.llama_2.feedforward.1.linear.bias', 9.375),\n",
       " ('llama_blocks.llama_2.attention.heads.1.w_q.weight', 9.27734375),\n",
       " ('ffn.2.bias', 9.23076923076923),\n",
       " ('llama_blocks.llama_2.attention.heads.1.w_k.weight', 9.222412109375),\n",
       " ('llama_blocks.llama_3.attention.heads.0.w_k.weight', 9.210205078125),\n",
       " ('llama_blocks.llama_3.attention.heads.0.w_q.weight', 9.1552734375),\n",
       " ('llama_blocks.llama_3.attention.heads.1.w_q.weight', 9.14306640625),\n",
       " ('llama_blocks.llama_0.feedforward.1.linear.weight', 9.130859375),\n",
       " ('llama_blocks.llama_2.attention.heads.7.w_q.weight', 9.09423828125),\n",
       " ('llama_blocks.llama_2.feedforward.1.linear_gate.weight', 9.08203125),\n",
       " ('llama_blocks.llama_1.attention.heads.1.w_q.weight', 9.063720703125),\n",
       " ('llama_blocks.llama_3.attention.heads.7.w_q.weight', 9.014892578125),\n",
       " ('llama_blocks.llama_3.attention.heads.6.w_k.weight', 8.941650390625),\n",
       " ('llama_blocks.llama_1.attention.heads.1.w_k.weight', 8.905029296875),\n",
       " ('llama_blocks.llama_2.feedforward.1.linear.weight', 8.89892578125),\n",
       " ('llama_blocks.llama_3.attention.heads.6.w_q.weight', 8.75244140625),\n",
       " ('llama_blocks.llama_3.feedforward.1.linear_gate.weight', 8.67919921875),\n",
       " ('llama_blocks.llama_1.feedforward.1.linear_gate.weight', 8.673095703125),\n",
       " ('llama_blocks.llama_2.attention.heads.7.w_k.weight', 8.6181640625),\n",
       " ('llama_blocks.llama_0.feedforward.1.linear_gate.bias', 8.59375),\n",
       " ('llama_blocks.llama_1.attention.heads.5.w_k.weight', 8.587646484375),\n",
       " ('llama_blocks.llama_3.attention.heads.2.w_k.weight', 8.563232421875),\n",
       " ('ffn.0.weight', 8.544921875),\n",
       " ('llama_blocks.llama_1.attention.heads.5.w_q.weight', 8.502197265625),\n",
       " ('llama_blocks.llama_1.feedforward.1.linear.weight', 8.48388671875),\n",
       " ('llama_blocks.llama_1.attention.heads.3.w_q.weight', 8.45947265625),\n",
       " ('llama_blocks.llama_2.attention.heads.3.w_q.weight', 8.45947265625),\n",
       " ('llama_blocks.llama_2.attention.heads.2.w_k.weight', 8.416748046875),\n",
       " ('llama_blocks.llama_3.attention.heads.1.w_k.weight', 8.380126953125),\n",
       " ('ffn.1.linear_gate.weight', 8.31298828125),\n",
       " ('llama_blocks.llama_2.attention.heads.2.w_q.weight', 8.30078125),\n",
       " ('llama_blocks.llama_3.attention.heads.7.w_k.weight', 8.30078125),\n",
       " ('llama_blocks.llama_2.attention.heads.3.w_k.weight', 8.209228515625),\n",
       " ('llama_blocks.llama_1.attention.heads.2.w_q.weight', 8.184814453125),\n",
       " ('llama_blocks.llama_1.attention.heads.3.w_k.weight', 8.1298828125),\n",
       " ('llama_blocks.llama_3.attention.heads.2.w_q.weight', 8.0322265625),\n",
       " ('llama_blocks.llama_1.attention.heads.2.w_k.weight', 8.013916015625),\n",
       " ('llama_blocks.llama_3.attention.heads.3.w_q.weight', 8.013916015625),\n",
       " ('llama_blocks.llama_1.attention.heads.6.w_q.weight', 7.958984375),\n",
       " ('llama_blocks.llama_1.attention.heads.6.w_k.weight', 7.879638671875),\n",
       " ('llama_blocks.llama_1.attention.heads.7.w_k.weight', 7.861328125),\n",
       " ('llama_blocks.llama_3.attention.heads.3.w_k.weight', 7.82470703125),\n",
       " ('llama_blocks.llama_0.attention.linear.bias', 7.8125),\n",
       " ('llama_blocks.llama_1.attention.heads.0.w_k.weight', 7.757568359375),\n",
       " ('llama_blocks.llama_1.attention.heads.7.w_q.weight', 7.7392578125),\n",
       " ('llama_blocks.llama_1.attention.heads.0.w_q.weight', 7.72705078125),\n",
       " ('ffn.1.linear.weight', 7.696533203125),\n",
       " ('llama_blocks.llama_2.attention.heads.4.w_k.weight', 7.65380859375),\n",
       " ('llama_blocks.llama_2.attention.heads.5.w_k.weight', 7.6416015625),\n",
       " ('llama_blocks.llama_2.attention.heads.4.w_q.weight', 7.513427734375),\n",
       " ('llama_blocks.llama_2.attention.heads.5.w_q.weight', 7.427978515625),\n",
       " ('llama_blocks.llama_2.attention.heads.6.w_q.weight', 7.098388671875),\n",
       " ('llama_blocks.llama_0.feedforward.1.linear.bias', 7.03125),\n",
       " ('llama_blocks.llama_2.attention.heads.6.w_k.weight', 7.01904296875),\n",
       " ('ffn.2.weight', 6.3701923076923075),\n",
       " ('llama_blocks.llama_1.feedforward.1.linear.bias', 6.25),\n",
       " ('llama_blocks.llama_3.feedforward.1.linear_gate.bias', 6.25),\n",
       " ('llama_blocks.llama_0.feedforward.0.bias', 4.6875),\n",
       " ('ffn.1.linear.bias', 4.6875),\n",
       " ('llama_blocks.llama_3.feedforward.1.linear.bias', 3.90625),\n",
       " ('ffn.0.bias', 3.90625),\n",
       " ('ffn.1.linear_gate.bias', 3.90625),\n",
       " ('llama_blocks.llama_3.feedforward.0.bias', 3.125),\n",
       " ('llama_blocks.llama_1.attention.linear.bias', 2.34375),\n",
       " ('llama_blocks.llama_1.feedforward.0.bias', 2.34375),\n",
       " ('llama_blocks.llama_3.attention.linear.bias', 2.34375),\n",
       " ('llama_blocks.llama_2.feedforward.0.bias', 1.5625),\n",
       " ('embeddings.weight', 0.6490384615384616),\n",
       " ('llama_blocks.llama_1.rms.scale', 0.09765625),\n",
       " ('llama_blocks.llama_0.rms.scale', 0.048828125),\n",
       " ('llama_blocks.llama_2.rms.scale', 0.0),\n",
       " ('llama_blocks.llama_2.attention.linear.bias', 0.0),\n",
       " ('llama_blocks.llama_3.rms.scale', 0.0)]"
      ]
     },
     "execution_count": 69,
     "metadata": {},
     "output_type": "execute_result"
    }
   ],
   "source": [
    "# print the percentage that are near 0\n",
    "def show_grads(model, tol=1e-2):\n",
    "    return sorted([(name, 100.0 * float(torch.sum(torch.abs(param) <= tol)) / float(param.nelement())) for name, param in model.named_parameters() if param.requires_grad], key=lambda t: t[1], reverse=True)\n",
    "\n",
    "show_grads(llama)"
   ]
  },
  {
   "cell_type": "markdown",
   "metadata": {},
   "source": [
    "### Experiment with hyperparams"
   ]
  },
  {
   "cell_type": "code",
   "execution_count": 70,
   "metadata": {},
   "outputs": [
    {
     "name": "stdout",
     "output_type": "stream",
     "text": [
      "model params: 2370241\n"
     ]
    },
    {
     "name": "stderr",
     "output_type": "stream",
     "text": [
      "/home/simon/anaconda3/envs/dl-fundamentals/lib/python3.9/site-packages/torch/optim/lr_scheduler.py:814: UserWarning: To get the last learning rate computed by the scheduler, please use `get_last_lr()`.\n",
      "  warnings.warn(\"To get the last learning rate computed by the scheduler, \"\n"
     ]
    },
    {
     "name": "stdout",
     "output_type": "stream",
     "text": [
      "lr:  [0.0009999457184159408]\n",
      "lr:  [0.0007435220208394261]\n",
      "lr:  [0.0002486299281339155]\n",
      "lr:  [1.0054282328142978e-05]\n",
      "lr:  [0.000266587198202317]\n",
      "lr:  [0.0007614779781684484]\n",
      "lr:  [0.0009999457184159232]\n",
      "lr:  [0.0007435220208394129]\n",
      "lr:  [0.00024862992813391206]\n",
      "lr:  [1.0054282328142978e-05]\n",
      "validation loss:  4.195873212814331\n"
     ]
    },
    {
     "data": {
      "text/plain": [
       "<Axes: >"
      ]
     },
     "execution_count": 70,
     "metadata": {},
     "output_type": "execute_result"
    },
    {
     "data": {
      "image/png": "[encoded data removed]",
      "text/plain": [
       "<Figure size 640x480 with 1 Axes>"
      ]
     },
     "metadata": {},
     "output_type": "display_data"
    }
   ],
   "source": [
    "MASTER_CONFIG.update({\n",
    "    \"epochs\": 1000\n",
    "})\n",
    "llama_with_cosine = Llama(MASTER_CONFIG)\n",
    "llama_optimizer = torch.optim.Adam(\n",
    "    llama.parameters(), \n",
    "    betas=(.9, .95), \n",
    "    weight_decay=.1, \n",
    "    eps=1e-9, \n",
    "    lr=1e-3\n",
    ")\n",
    "scheduler = torch.optim.lr_scheduler.CosineAnnealingLR(llama_optimizer, 300, eta_min=1e-5)\n",
    "train(llama_with_cosine, llama_optimizer, scheduler=scheduler)"
   ]
  },
  {
   "cell_type": "code",
   "execution_count": 71,
   "metadata": {},
   "outputs": [
    {
     "data": {
      "text/plain": [
       "[('ffn.1.linear.bias', 0.78125),\n",
       " ('llama_blocks.llama_2.attention.linear.weight', 0.04119873046875),\n",
       " ('llama_blocks.llama_0.attention.heads.1.w_q.weight', 0.03662109375),\n",
       " ('llama_blocks.llama_0.attention.heads.2.w_v.weight', 0.03662109375),\n",
       " ('llama_blocks.llama_0.attention.linear.weight', 0.0335693359375),\n",
       " ('llama_blocks.llama_1.attention.heads.5.w_v.weight', 0.030517578125),\n",
       " ('llama_blocks.llama_1.attention.linear.weight', 0.030517578125),\n",
       " ('llama_blocks.llama_2.attention.heads.5.w_v.weight', 0.030517578125),\n",
       " ('llama_blocks.llama_2.attention.heads.7.w_v.weight', 0.030517578125),\n",
       " ('llama_blocks.llama_3.attention.linear.weight', 0.030517578125),\n",
       " ('llama_blocks.llama_0.attention.heads.0.w_q.weight', 0.0244140625),\n",
       " ('llama_blocks.llama_0.attention.heads.3.w_k.weight', 0.0244140625),\n",
       " ('llama_blocks.llama_1.attention.heads.6.w_v.weight', 0.0244140625),\n",
       " ('llama_blocks.llama_2.attention.heads.1.w_k.weight', 0.0244140625),\n",
       " ('llama_blocks.llama_2.attention.heads.4.w_q.weight', 0.0244140625),\n",
       " ('llama_blocks.llama_2.attention.heads.5.w_q.weight', 0.0244140625),\n",
       " ('llama_blocks.llama_2.attention.heads.6.w_q.weight', 0.0244140625),\n",
       " ('llama_blocks.llama_3.attention.heads.1.w_k.weight', 0.0244140625),\n",
       " ('llama_blocks.llama_0.attention.heads.0.w_k.weight', 0.018310546875),\n",
       " ('llama_blocks.llama_0.attention.heads.1.w_v.weight', 0.018310546875),\n",
       " ('llama_blocks.llama_0.attention.heads.2.w_k.weight', 0.018310546875),\n",
       " ('llama_blocks.llama_0.attention.heads.4.w_k.weight', 0.018310546875),\n",
       " ('llama_blocks.llama_0.feedforward.1.linear.weight', 0.018310546875),\n",
       " ('llama_blocks.llama_1.attention.heads.0.w_k.weight', 0.018310546875),\n",
       " ('llama_blocks.llama_1.attention.heads.4.w_k.weight', 0.018310546875),\n",
       " ('llama_blocks.llama_1.attention.heads.6.w_k.weight', 0.018310546875),\n",
       " ('llama_blocks.llama_2.attention.heads.0.w_q.weight', 0.018310546875),\n",
       " ('llama_blocks.llama_2.attention.heads.0.w_k.weight', 0.018310546875),\n",
       " ('llama_blocks.llama_2.attention.heads.1.w_v.weight', 0.018310546875),\n",
       " ('llama_blocks.llama_2.attention.heads.2.w_k.weight', 0.018310546875),\n",
       " ('llama_blocks.llama_2.attention.heads.2.w_v.weight', 0.018310546875),\n",
       " ('llama_blocks.llama_2.attention.heads.3.w_v.weight', 0.018310546875),\n",
       " ('llama_blocks.llama_2.attention.heads.4.w_v.weight', 0.018310546875),\n",
       " ('llama_blocks.llama_2.attention.heads.7.w_q.weight', 0.018310546875),\n",
       " ('llama_blocks.llama_3.attention.heads.1.w_q.weight', 0.018310546875),\n",
       " ('llama_blocks.llama_3.attention.heads.2.w_k.weight', 0.018310546875),\n",
       " ('llama_blocks.llama_3.attention.heads.4.w_q.weight', 0.018310546875),\n",
       " ('ffn.1.linear.weight', 0.018310546875),\n",
       " ('llama_blocks.llama_0.attention.heads.1.w_k.weight', 0.01220703125),\n",
       " ('llama_blocks.llama_0.attention.heads.2.w_q.weight', 0.01220703125),\n",
       " ('llama_blocks.llama_0.attention.heads.4.w_q.weight', 0.01220703125),\n",
       " ('llama_blocks.llama_0.attention.heads.5.w_v.weight', 0.01220703125),\n",
       " ('llama_blocks.llama_0.attention.heads.6.w_q.weight', 0.01220703125),\n",
       " ('llama_blocks.llama_0.feedforward.1.linear_gate.weight', 0.01220703125),\n",
       " ('llama_blocks.llama_1.attention.heads.0.w_q.weight', 0.01220703125),\n",
       " ('llama_blocks.llama_1.attention.heads.1.w_v.weight', 0.01220703125),\n",
       " ('llama_blocks.llama_1.attention.heads.2.w_q.weight', 0.01220703125),\n",
       " ('llama_blocks.llama_1.attention.heads.4.w_q.weight', 0.01220703125),\n",
       " ('llama_blocks.llama_1.attention.heads.6.w_q.weight', 0.01220703125),\n",
       " ('llama_blocks.llama_1.attention.heads.7.w_k.weight', 0.01220703125),\n",
       " ('llama_blocks.llama_1.feedforward.0.weight', 0.01220703125),\n",
       " ('llama_blocks.llama_2.attention.heads.2.w_q.weight', 0.01220703125),\n",
       " ('llama_blocks.llama_2.attention.heads.3.w_q.weight', 0.01220703125),\n",
       " ('llama_blocks.llama_2.feedforward.0.weight', 0.01220703125),\n",
       " ('llama_blocks.llama_2.feedforward.1.linear_gate.weight', 0.01220703125),\n",
       " ('llama_blocks.llama_2.feedforward.1.linear.weight', 0.01220703125),\n",
       " ('llama_blocks.llama_3.attention.heads.0.w_q.weight', 0.01220703125),\n",
       " ('llama_blocks.llama_3.attention.heads.0.w_k.weight', 0.01220703125),\n",
       " ('llama_blocks.llama_3.attention.heads.1.w_v.weight', 0.01220703125),\n",
       " ('llama_blocks.llama_3.attention.heads.2.w_q.weight', 0.01220703125),\n",
       " ('llama_blocks.llama_3.attention.heads.3.w_q.weight', 0.01220703125),\n",
       " ('llama_blocks.llama_3.attention.heads.3.w_v.weight', 0.01220703125),\n",
       " ('llama_blocks.llama_3.attention.heads.4.w_v.weight', 0.01220703125),\n",
       " ('llama_blocks.llama_3.attention.heads.5.w_k.weight', 0.01220703125),\n",
       " ('llama_blocks.llama_3.attention.heads.6.w_q.weight', 0.01220703125),\n",
       " ('llama_blocks.llama_3.attention.heads.7.w_k.weight', 0.01220703125),\n",
       " ('llama_blocks.llama_3.feedforward.0.weight', 0.01220703125),\n",
       " ('llama_blocks.llama_3.feedforward.1.linear.weight', 0.01220703125),\n",
       " ('ffn.0.weight', 0.01220703125),\n",
       " ('llama_blocks.llama_0.attention.heads.0.w_v.weight', 0.006103515625),\n",
       " ('llama_blocks.llama_0.attention.heads.3.w_q.weight', 0.006103515625),\n",
       " ('llama_blocks.llama_0.attention.heads.5.w_q.weight', 0.006103515625),\n",
       " ('llama_blocks.llama_0.attention.heads.5.w_k.weight', 0.006103515625),\n",
       " ('llama_blocks.llama_0.attention.heads.6.w_v.weight', 0.006103515625),\n",
       " ('llama_blocks.llama_0.attention.heads.7.w_k.weight', 0.006103515625),\n",
       " ('llama_blocks.llama_0.attention.heads.7.w_v.weight', 0.006103515625),\n",
       " ('llama_blocks.llama_0.feedforward.0.weight', 0.006103515625),\n",
       " ('llama_blocks.llama_1.attention.heads.0.w_v.weight', 0.006103515625),\n",
       " ('llama_blocks.llama_1.attention.heads.2.w_k.weight', 0.006103515625),\n",
       " ('llama_blocks.llama_1.attention.heads.3.w_k.weight', 0.006103515625),\n",
       " ('llama_blocks.llama_1.attention.heads.3.w_v.weight', 0.006103515625),\n",
       " ('llama_blocks.llama_1.attention.heads.5.w_q.weight', 0.006103515625),\n",
       " ('llama_blocks.llama_1.attention.heads.7.w_v.weight', 0.006103515625),\n",
       " ('llama_blocks.llama_1.feedforward.1.linear_gate.weight', 0.006103515625),\n",
       " ('llama_blocks.llama_2.attention.heads.0.w_v.weight', 0.006103515625),\n",
       " ('llama_blocks.llama_2.attention.heads.5.w_k.weight', 0.006103515625),\n",
       " ('llama_blocks.llama_2.attention.heads.6.w_k.weight', 0.006103515625),\n",
       " ('llama_blocks.llama_2.attention.heads.7.w_k.weight', 0.006103515625),\n",
       " ('llama_blocks.llama_3.attention.heads.0.w_v.weight', 0.006103515625),\n",
       " ('llama_blocks.llama_3.attention.heads.2.w_v.weight', 0.006103515625),\n",
       " ('llama_blocks.llama_3.attention.heads.3.w_k.weight', 0.006103515625),\n",
       " ('llama_blocks.llama_3.attention.heads.4.w_k.weight', 0.006103515625),\n",
       " ('llama_blocks.llama_3.attention.heads.5.w_v.weight', 0.006103515625),\n",
       " ('llama_blocks.llama_3.attention.heads.6.w_v.weight', 0.006103515625),\n",
       " ('llama_blocks.llama_3.attention.heads.7.w_q.weight', 0.006103515625),\n",
       " ('llama_blocks.llama_3.attention.heads.7.w_v.weight', 0.006103515625),\n",
       " ('llama_blocks.llama_3.feedforward.1.linear_gate.weight', 0.006103515625),\n",
       " ('ffn.1.linear_gate.weight', 0.006103515625),\n",
       " ('embeddings.weight', 0.0),\n",
       " ('llama_blocks.llama_0.rms.scale', 0.0),\n",
       " ('llama_blocks.llama_0.attention.heads.3.w_v.weight', 0.0),\n",
       " ('llama_blocks.llama_0.attention.heads.4.w_v.weight', 0.0),\n",
       " ('llama_blocks.llama_0.attention.heads.6.w_k.weight', 0.0),\n",
       " ('llama_blocks.llama_0.attention.heads.7.w_q.weight', 0.0),\n",
       " ('llama_blocks.llama_0.attention.linear.bias', 0.0),\n",
       " ('llama_blocks.llama_0.feedforward.0.bias', 0.0),\n",
       " ('llama_blocks.llama_0.feedforward.1.linear_gate.bias', 0.0),\n",
       " ('llama_blocks.llama_0.feedforward.1.linear.bias', 0.0),\n",
       " ('llama_blocks.llama_1.rms.scale', 0.0),\n",
       " ('llama_blocks.llama_1.attention.heads.1.w_q.weight', 0.0),\n",
       " ('llama_blocks.llama_1.attention.heads.1.w_k.weight', 0.0),\n",
       " ('llama_blocks.llama_1.attention.heads.2.w_v.weight', 0.0),\n",
       " ('llama_blocks.llama_1.attention.heads.3.w_q.weight', 0.0),\n",
       " ('llama_blocks.llama_1.attention.heads.4.w_v.weight', 0.0),\n",
       " ('llama_blocks.llama_1.attention.heads.5.w_k.weight', 0.0),\n",
       " ('llama_blocks.llama_1.attention.heads.7.w_q.weight', 0.0),\n",
       " ('llama_blocks.llama_1.attention.linear.bias', 0.0),\n",
       " ('llama_blocks.llama_1.feedforward.0.bias', 0.0),\n",
       " ('llama_blocks.llama_1.feedforward.1.linear_gate.bias', 0.0),\n",
       " ('llama_blocks.llama_1.feedforward.1.linear.weight', 0.0),\n",
       " ('llama_blocks.llama_1.feedforward.1.linear.bias', 0.0),\n",
       " ('llama_blocks.llama_2.rms.scale', 0.0),\n",
       " ('llama_blocks.llama_2.attention.heads.1.w_q.weight', 0.0),\n",
       " ('llama_blocks.llama_2.attention.heads.3.w_k.weight', 0.0),\n",
       " ('llama_blocks.llama_2.attention.heads.4.w_k.weight', 0.0),\n",
       " ('llama_blocks.llama_2.attention.heads.6.w_v.weight', 0.0),\n",
       " ('llama_blocks.llama_2.attention.linear.bias', 0.0),\n",
       " ('llama_blocks.llama_2.feedforward.0.bias', 0.0),\n",
       " ('llama_blocks.llama_2.feedforward.1.linear_gate.bias', 0.0),\n",
       " ('llama_blocks.llama_2.feedforward.1.linear.bias', 0.0),\n",
       " ('llama_blocks.llama_3.rms.scale', 0.0),\n",
       " ('llama_blocks.llama_3.attention.heads.5.w_q.weight', 0.0),\n",
       " ('llama_blocks.llama_3.attention.heads.6.w_k.weight', 0.0),\n",
       " ('llama_blocks.llama_3.attention.linear.bias', 0.0),\n",
       " ('llama_blocks.llama_3.feedforward.0.bias', 0.0),\n",
       " ('llama_blocks.llama_3.feedforward.1.linear_gate.bias', 0.0),\n",
       " ('llama_blocks.llama_3.feedforward.1.linear.bias', 0.0),\n",
       " ('ffn.0.bias', 0.0),\n",
       " ('ffn.1.linear_gate.bias', 0.0),\n",
       " ('ffn.2.weight', 0.0),\n",
       " ('ffn.2.bias', 0.0)]"
      ]
     },
     "execution_count": 71,
     "metadata": {},
     "output_type": "execute_result"
    }
   ],
   "source": [
    "show_grads(llama_with_cosine, 1e-5)"
   ]
  }
 ],
 "metadata": {
  "kernelspec": {
   "display_name": "dl-fundamentals",
   "language": "python",
   "name": "python3"
  },
  "language_info": {
   "codemirror_mode": {
    "name": "ipython",
    "version": 3
   },
   "file_extension": ".py",
   "mimetype": "text/x-python",
   "name": "python",
   "nbconvert_exporter": "python",
   "pygments_lexer": "ipython3",
   "version": "3.9.17"
  }
 },
 "nbformat": 4,
 "nbformat_minor": 2
}
