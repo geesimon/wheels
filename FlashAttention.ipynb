{
 "cells": [
  {
   "cell_type": "code",
   "execution_count": 2,
   "metadata": {},
   "outputs": [],
   "source": [
    "import torch"
   ]
  },
  {
   "cell_type": "code",
   "execution_count": 3,
   "metadata": {},
   "outputs": [
    {
     "name": "stdout",
     "output_type": "stream",
     "text": [
      "tensor([0.0043, 0.0116, 0.0315, 0.0858, 0.2331, 0.6337])\n",
      "tensor([0.0043, 0.0116, 0.0315, 0.0858, 0.2331, 0.6337])\n"
     ]
    }
   ],
   "source": [
    "a=torch.tensor([1,2,3],dtype=torch.float32)\n",
    "b=torch.tensor([4,5,6],dtype=torch.float32)\n",
    "print(torch.softmax(torch.concat([a,b]), dim=0))\n",
    "\n",
    "\n",
    "m_a=torch.max(a)\n",
    "f_a = torch.exp(a - m_a)\n",
    "l_a = torch.sum(f_a)\n",
    "\n",
    "m_b=torch.max(b)\n",
    "f_b = torch.exp(b - m_b)\n",
    "l_b = torch.sum(f_b)\n",
    "\n",
    "m = torch.max(m_a,m_b)\n",
    "f = torch.concat([torch.exp(m_a - m) * f_a, torch.exp(m_b - m) * f_b])\n",
    "l = torch.sum(f)\n",
    "\n",
    "print(f / l)"
   ]
  },
  {
   "cell_type": "markdown",
   "metadata": {},
   "source": [
    "[FlashAttention: Fast and Memory-Efficient Exact Attention with IO-Awareness](https://arxiv.org/abs/2205.14135)"
   ]
  },
  {
   "cell_type": "code",
   "execution_count": 1,
   "metadata": {},
   "outputs": [],
   "source": [
    "def flash_attention(Q, K, V, M = 10_000, is_causal=False ):\n",
    "    # Q: (batch, seq_len, dim)\n",
    "    # K: (batch, seq_len, dim)\n",
    "    # V: (batch, seq_len, dim)\n",
    "    # mask: (batch, seq_len, seq_len)\n",
    "    # return: (batch, seq_len, dim)\n",
    "    O = torch.zeros_like(Q)\n",
    "\n",
    "    return O"
   ]
  }
 ],
 "metadata": {
  "kernelspec": {
   "display_name": "dl-fundamentals",
   "language": "python",
   "name": "python3"
  },
  "language_info": {
   "codemirror_mode": {
    "name": "ipython",
    "version": 3
   },
   "file_extension": ".py",
   "mimetype": "text/x-python",
   "name": "python",
   "nbconvert_exporter": "python",
   "pygments_lexer": "ipython3",
   "version": "3.9.17"
  }
 },
 "nbformat": 4,
 "nbformat_minor": 2
}
