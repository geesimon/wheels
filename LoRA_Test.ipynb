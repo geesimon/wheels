{
 "cells": [
  {
   "cell_type": "code",
   "execution_count": null,
   "metadata": {},
   "outputs": [],
   "source": [
    "# %pip install torch torchvision torchaudio\n",
    "# %pip install bitsandbytes datasets accelerate transformers peft"
   ]
  },
  {
   "cell_type": "code",
   "execution_count": null,
   "metadata": {},
   "outputs": [],
   "source": [
    "\"\"\"\n",
    "Helper Function for Comparing Results\n",
    "\"\"\"\n",
    "\n",
    "from IPython.display import display, Markdown\n",
    "\n",
    "def generate(model, tokenizer, context, question):\n",
    "\n",
    "    #turn the input into tokens\n",
    "    batch = tokenizer(f\"**CONTEXT:**\\n{context}\\n\\n**QUESTION:**\\n{question}\\n\\n**ANSWER:**\\n\", return_tensors='pt', return_token_type_ids=False)\n",
    "    #move the tokens onto the GPU, for inference\n",
    "    # batch = batch.to(device='cuda')\n",
    "\n",
    "    #raw model\n",
    "    return tokenizer.decode(model.generate(**batch, max_new_tokens=200)[0], skip_special_tokens=True)\n",
    "\n",
    "def compare_inference(model, tokenizer, context, question):\n",
    "    out = generate(model, tokenizer, context, question)\n",
    "    display(Markdown(\"# Finetuned Model\\n\"))\n",
    "    display(Markdown(out))\n",
    "    model.disable_adapters()\n",
    "    out = generate(model, tokenizer, context, question)\n",
    "    display(Markdown(\"# Raw Model\\n\"))\n",
    "    display(Markdown(out))\n"
   ]
  },
  {
   "cell_type": "code",
   "execution_count": null,
   "metadata": {},
   "outputs": [],
   "source": [
    "\"\"\"Importing dependencies and downloading pre-trained bloom model\n",
    "\"\"\"\n",
    "\n",
    "import torch\n",
    "import torch.nn as nn\n",
    "import bitsandbytes as bnb\n",
    "from transformers import AutoTokenizer, AutoConfig, AutoModelForCausalLM\n",
    "\n",
    "# model_id = \"bigscience/bloom-560m\"\n",
    "#peft_model_id = \"./checkpoint/BLOOM-560m-LoRA\"\n",
    "model_id = \"facebook/opt-350m\"\n",
    "peft_model_id = \"./checkpoint/opt-350m-lora\"\n",
    "\n",
    "#loading model\n",
    "model = AutoModelForCausalLM.from_pretrained(\n",
    "    model_id,\n",
    "    # torch_dtype=torch.float32,\n",
    "    device_map='auto',\n",
    ")\n",
    "\n",
    "#loading tokenizer for this model (which turns text into an input for the model)\n",
    "tokenizer = AutoTokenizer.from_pretrained(model_id)"
   ]
  },
  {
   "cell_type": "code",
   "execution_count": null,
   "metadata": {},
   "outputs": [],
   "source": [
    "# model.load_adapter(peft_model_id)\n",
    "\n",
    "# context = \"you are a math wizard\"\n",
    "# question = \"what is 1+1 equal to?\"\n",
    "# compare_inference(model, tokenizer, context, question)"
   ]
  },
  {
   "cell_type": "code",
   "execution_count": null,
   "metadata": {},
   "outputs": [],
   "source": [
    "\"\"\"\n",
    "Setting up LoRA using parameter efficient fine tuning\n",
    "\"\"\"\n",
    "\n",
    "from peft import LoraConfig\n",
    "\n",
    "#defining how LoRA will work in this particular example\n",
    "peft_config = LoraConfig(\n",
    "    r=8,\n",
    "    lora_alpha=8,\n",
    "    lora_dropout=0.1,\n",
    "    # target_modules=[\"query_key_value\"],\n",
    "    bias=\"none\",\n",
    "    task_type=\"CAUSAL_LM\"\n",
    ")\n",
    "\n",
    "model.add_adapter(peft_config)"
   ]
  },
  {
   "cell_type": "code",
   "execution_count": null,
   "metadata": {},
   "outputs": [],
   "source": [
    "\"\"\"Comparing parameters before and after LoRA\n",
    "\"\"\"\n",
    "\n",
    "trainable_params = 0\n",
    "all_param = 0\n",
    "\n",
    "#iterating over all parameters\n",
    "for _, param in model.named_parameters():\n",
    "    #adding parameters to total\n",
    "    all_param += param.numel()\n",
    "    #adding parameters to trainable if they require a graident\n",
    "    if param.requires_grad:\n",
    "        trainable_params += param.numel()\n",
    "\n",
    "#printing results\n",
    "print(f\"trainable params: {trainable_params}\")\n",
    "print(f\"all params: {all_param}\")\n",
    "print(f\"trainable: {100 * trainable_params / all_param:.2f}%\")"
   ]
  },
  {
   "cell_type": "code",
   "execution_count": null,
   "metadata": {},
   "outputs": [],
   "source": [
    "\"\"\"Loading SQUAD dataset\n",
    "\"\"\"\n",
    "\n",
    "from datasets import load_dataset\n",
    "qa_dataset = load_dataset(\"squad_v2\")"
   ]
  },
  {
   "cell_type": "code",
   "execution_count": null,
   "metadata": {},
   "outputs": [],
   "source": [
    "\"\"\"Reformatting SQUAD to respect our defined structure\n",
    "\"\"\"\n",
    "\n",
    "#defining a function for reformatting\n",
    "def create_prompt(context, question, answer):\n",
    "  if len(answer[\"text\"]) < 1:\n",
    "    answer = \"Cannot Find Answer\"\n",
    "  else:\n",
    "    answer = answer[\"text\"][0]\n",
    "  prompt_template = f\"CONTEXT:\\n{context}\\n\\nQUESTION:\\n{question}\\n\\nANSWER:\\n{answer}</s>\"\n",
    "  return prompt_template\n",
    "\n",
    "#applying the reformatting function to the entire dataset\n",
    "mapped_qa_dataset = qa_dataset.map(lambda samples: tokenizer(create_prompt(samples['context'], samples['question'], samples['answers'])))"
   ]
  },
  {
   "cell_type": "code",
   "execution_count": null,
   "metadata": {},
   "outputs": [],
   "source": [
    "\"\"\"Fine Tuning\n",
    "This code is largly co-opted. In the absence of a rigid validation\n",
    "procedure, the best practice is to just copy a successful tutorial or,\n",
    "better yet, directly from the documentation.\n",
    "\"\"\"\n",
    "\n",
    "import transformers\n",
    "\n",
    "trainer = transformers.Trainer(\n",
    "    model=model,\n",
    "    train_dataset=mapped_qa_dataset[\"train\"],\n",
    "    args=transformers.TrainingArguments(\n",
    "        per_device_train_batch_size=4,\n",
    "        gradient_accumulation_steps=4,\n",
    "        warmup_steps=100,\n",
    "        max_steps=100,\n",
    "        learning_rate=1e-3,        \n",
    "        logging_steps=10,\n",
    "        output_dir='checkpoint',\n",
    "    ),\n",
    "    data_collator=transformers.DataCollatorForLanguageModeling(tokenizer, mlm=False)\n",
    ")\n",
    "# peft_model.config.use_cache = False  # silence the warnings. Please re-enable for inference!\n",
    "trainer.train()\n",
    "\n",
    "model.save_pretrained(peft_model_id)"
   ]
  },
  {
   "cell_type": "code",
   "execution_count": null,
   "metadata": {},
   "outputs": [],
   "source": [
    "context = \"You are a monster, and you eat yellow legos.\"\n",
    "question = \"What is the best food?\"\n",
    "\n",
    "compare_inference(model, tokenizer, context, question)"
   ]
  },
  {
   "cell_type": "code",
   "execution_count": null,
   "metadata": {},
   "outputs": [],
   "source": [
    "context = \"you are a math wizard\"\n",
    "question = \"what is 1+1 equal to?\"\n",
    "\n",
    "compare_inference(model, tokenizer, context, question)"
   ]
  },
  {
   "cell_type": "code",
   "execution_count": null,
   "metadata": {},
   "outputs": [],
   "source": [
    "context = \"Answer the riddle\"\n",
    "question = \"What gets bigger the more you take away?\"\n",
    "\n",
    "compare_inference(model, tokenizer, context, question)"
   ]
  }
 ],
 "metadata": {
  "kernelspec": {
   "display_name": "wheels",
   "language": "python",
   "name": "python3"
  },
  "language_info": {
   "codemirror_mode": {
    "name": "ipython",
    "version": 3
   },
   "file_extension": ".py",
   "mimetype": "text/x-python",
   "name": "python",
   "nbconvert_exporter": "python",
   "pygments_lexer": "ipython3",
   "version": "3.10.8"
  }
 },
 "nbformat": 4,
 "nbformat_minor": 2
}
