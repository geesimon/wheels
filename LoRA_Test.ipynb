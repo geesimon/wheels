{
 "cells": [
  {
   "cell_type": "code",
   "execution_count": 1,
   "metadata": {},
   "outputs": [],
   "source": [
    "# %pip install torch torchvision torchaudio\n",
    "# %pip install bitsandbytes datasets accelerate transformers peft"
   ]
  },
  {
   "cell_type": "markdown",
   "metadata": {},
   "source": [
    "### Helper Function for Comparing Results"
   ]
  },
  {
   "cell_type": "code",
   "execution_count": 2,
   "metadata": {},
   "outputs": [],
   "source": [
    "from IPython.display import display, Markdown\n",
    "\n",
    "def generate(model, tokenizer, context, question):\n",
    "    batch = tokenizer(f\"**CONTEXT:**\\n{context}\\n\\n**QUESTION:**\\n{question}\\n\\n**ANSWER:**\\n\", return_tensors='pt', return_token_type_ids=False)\n",
    "    # batch = batch.to(device='cuda')\n",
    "\n",
    "    #raw model\n",
    "    return tokenizer.decode(model.generate(**batch, max_new_tokens=200)[0], skip_special_tokens=True)\n",
    "\n",
    "def compare_inference(model, tokenizer, context, question):\n",
    "    out = generate(model, tokenizer, context, question)\n",
    "    display(Markdown(\"# Finetuned Model\\n\"))\n",
    "    display(Markdown(out))\n",
    "    model.disable_adapters()\n",
    "    out = generate(model, tokenizer, context, question)\n",
    "    display(Markdown(\"# Raw Model\\n\"))\n",
    "    display(Markdown(out))"
   ]
  },
  {
   "cell_type": "markdown",
   "metadata": {},
   "source": [
    "### Importing dependencies and downloading pre-trained model"
   ]
  },
  {
   "cell_type": "code",
   "execution_count": 3,
   "metadata": {},
   "outputs": [
    {
     "name": "stderr",
     "output_type": "stream",
     "text": [
      "/home/simon/anaconda3/envs/wheels/lib/python3.10/site-packages/bitsandbytes/cextension.py:34: UserWarning: The installed version of bitsandbytes was compiled without GPU support. 8-bit optimizers, 8-bit multiplication, and GPU quantization are unavailable.\n",
      "  warn(\"The installed version of bitsandbytes was compiled without GPU support. \"\n"
     ]
    },
    {
     "name": "stdout",
     "output_type": "stream",
     "text": [
      "/home/simon/anaconda3/envs/wheels/lib/python3.10/site-packages/bitsandbytes/libbitsandbytes_cpu.so: undefined symbol: cadam32bit_grad_fp32\n"
     ]
    },
    {
     "name": "stderr",
     "output_type": "stream",
     "text": [
      "/home/simon/anaconda3/envs/wheels/lib/python3.10/site-packages/tqdm/auto.py:21: TqdmWarning: IProgress not found. Please update jupyter and ipywidgets. See https://ipywidgets.readthedocs.io/en/stable/user_install.html\n",
      "  from .autonotebook import tqdm as notebook_tqdm\n",
      "config.json: 100%|██████████| 644/644 [00:00<00:00, 2.86MB/s]\n",
      "pytorch_model.bin: 100%|██████████| 663M/663M [01:00<00:00, 11.0MB/s] \n",
      "generation_config.json: 100%|██████████| 137/137 [00:00<00:00, 625kB/s]\n",
      "tokenizer_config.json: 100%|██████████| 685/685 [00:00<00:00, 4.29MB/s]\n",
      "vocab.json: 100%|██████████| 899k/899k [00:00<00:00, 1.27MB/s]\n",
      "merges.txt: 100%|██████████| 456k/456k [00:00<00:00, 10.7MB/s]\n",
      "special_tokens_map.json: 100%|██████████| 441/441 [00:00<00:00, 2.83MB/s]\n"
     ]
    }
   ],
   "source": [
    "from transformers import AutoTokenizer, AutoModelForCausalLM\n",
    "\n",
    "# model_id = \"bigscience/bloom-560m\"\n",
    "#peft_model_id = \"./checkpoint/BLOOM-560m-LoRA\"\n",
    "model_id = \"facebook/opt-350m\"\n",
    "peft_model_id = \"./checkpoint/opt-350m-lora\"\n",
    "\n",
    "#loading model\n",
    "model = AutoModelForCausalLM.from_pretrained(\n",
    "    model_id,\n",
    "    # torch_dtype=torch.float32,\n",
    "    device_map='auto',\n",
    ")\n",
    "\n",
    "#loading tokenizer for this model (which turns text into an input for the model)\n",
    "tokenizer = AutoTokenizer.from_pretrained(model_id)"
   ]
  },
  {
   "cell_type": "code",
   "execution_count": 4,
   "metadata": {},
   "outputs": [],
   "source": [
    "# model.load_adapter(peft_model_id)\n",
    "\n",
    "# context = \"you are a math wizard\"\n",
    "# question = \"what is 1+1 equal to?\"\n",
    "# compare_inference(model, tokenizer, context, question)"
   ]
  },
  {
   "cell_type": "markdown",
   "metadata": {},
   "source": [
    "### Setting up LoRA using parameter efficient fine tuning"
   ]
  },
  {
   "cell_type": "code",
   "execution_count": 5,
   "metadata": {},
   "outputs": [],
   "source": [
    "from peft import LoraConfig\n",
    "\n",
    "peft_config = LoraConfig(\n",
    "    r=8,\n",
    "    lora_alpha=8,\n",
    "    lora_dropout=0.1,\n",
    "    # target_modules=[\"query_key_value\"],\n",
    "    bias=\"none\",\n",
    "    task_type=\"CAUSAL_LM\"\n",
    ")\n",
    "\n",
    "model.add_adapter(peft_config)"
   ]
  },
  {
   "cell_type": "markdown",
   "metadata": {},
   "source": [
    "### Comparing parameters before and after LoRA"
   ]
  },
  {
   "cell_type": "code",
   "execution_count": 6,
   "metadata": {},
   "outputs": [
    {
     "name": "stdout",
     "output_type": "stream",
     "text": [
      "trainable params: 786432\n",
      "all params: 331982848\n",
      "trainable: 0.24%\n"
     ]
    }
   ],
   "source": [
    "trainable_params = 0\n",
    "all_param = 0\n",
    "\n",
    "#iterating over all parameters\n",
    "for _, param in model.named_parameters():\n",
    "    #adding parameters to total\n",
    "    all_param += param.numel()\n",
    "    #adding parameters to trainable if they require a graident\n",
    "    if param.requires_grad:\n",
    "        trainable_params += param.numel()\n",
    "\n",
    "#printing results\n",
    "print(f\"trainable params: {trainable_params}\")\n",
    "print(f\"all params: {all_param}\")\n",
    "print(f\"trainable: {100 * trainable_params / all_param:.2f}%\")"
   ]
  },
  {
   "cell_type": "markdown",
   "metadata": {},
   "source": [
    "### Loading and reformating SQUAD dataset"
   ]
  },
  {
   "cell_type": "code",
   "execution_count": 7,
   "metadata": {},
   "outputs": [],
   "source": [
    "from datasets import load_dataset\n",
    "qa_dataset = load_dataset(\"squad_v2\")"
   ]
  },
  {
   "cell_type": "code",
   "execution_count": 8,
   "metadata": {},
   "outputs": [
    {
     "name": "stderr",
     "output_type": "stream",
     "text": [
      "Map: 100%|██████████| 130319/130319 [00:56<00:00, 2301.74 examples/s]\n",
      "Map: 100%|██████████| 11873/11873 [00:05<00:00, 2138.38 examples/s]\n"
     ]
    }
   ],
   "source": [
    "def create_prompt(context, question, answer):\n",
    "  if len(answer[\"text\"]) < 1:\n",
    "    answer = \"Cannot Find Answer\"\n",
    "  else:\n",
    "    answer = answer[\"text\"][0]\n",
    "  prompt_template = f\"CONTEXT:\\n{context}\\n\\nQUESTION:\\n{question}\\n\\nANSWER:\\n{answer}</s>\"\n",
    "  return prompt_template\n",
    "\n",
    "#applying the reformatting function to the entire dataset\n",
    "mapped_qa_dataset = qa_dataset.map(lambda samples: tokenizer(create_prompt(samples['context'], samples['question'], samples['answers'])))"
   ]
  },
  {
   "cell_type": "markdown",
   "metadata": {},
   "source": [
    "### Fine tuning\n",
    "\n",
    "This code is largly co-opted. In the absence of a rigid validation\n",
    "procedure, the best practice is to just copy a successful tutorial or,\n",
    "better yet, directly from the documentation."
   ]
  },
  {
   "cell_type": "code",
   "execution_count": 9,
   "metadata": {},
   "outputs": [
    {
     "name": "stderr",
     "output_type": "stream",
     "text": [
      "You're using a GPT2TokenizerFast tokenizer. Please note that with a fast tokenizer, using the `__call__` method is faster than using a method to encode the text followed by a call to the `pad` method to get a padded encoding.\n"
     ]
    },
    {
     "data": {
      "text/html": [
       "\n",
       "    <div>\n",
       "      \n",
       "      <progress value='100' max='100' style='width:300px; height:20px; vertical-align: middle;'></progress>\n",
       "      [100/100 35:58, Epoch 0/1]\n",
       "    </div>\n",
       "    <table border=\"1\" class=\"dataframe\">\n",
       "  <thead>\n",
       " <tr style=\"text-align: left;\">\n",
       "      <th>Step</th>\n",
       "      <th>Training Loss</th>\n",
       "    </tr>\n",
       "  </thead>\n",
       "  <tbody>\n",
       "    <tr>\n",
       "      <td>10</td>\n",
       "      <td>3.180400</td>\n",
       "    </tr>\n",
       "    <tr>\n",
       "      <td>20</td>\n",
       "      <td>3.064600</td>\n",
       "    </tr>\n",
       "    <tr>\n",
       "      <td>30</td>\n",
       "      <td>3.010900</td>\n",
       "    </tr>\n",
       "    <tr>\n",
       "      <td>40</td>\n",
       "      <td>2.944500</td>\n",
       "    </tr>\n",
       "    <tr>\n",
       "      <td>50</td>\n",
       "      <td>2.878800</td>\n",
       "    </tr>\n",
       "    <tr>\n",
       "      <td>60</td>\n",
       "      <td>2.850200</td>\n",
       "    </tr>\n",
       "    <tr>\n",
       "      <td>70</td>\n",
       "      <td>2.894900</td>\n",
       "    </tr>\n",
       "    <tr>\n",
       "      <td>80</td>\n",
       "      <td>2.811600</td>\n",
       "    </tr>\n",
       "    <tr>\n",
       "      <td>90</td>\n",
       "      <td>2.863800</td>\n",
       "    </tr>\n",
       "    <tr>\n",
       "      <td>100</td>\n",
       "      <td>2.838700</td>\n",
       "    </tr>\n",
       "  </tbody>\n",
       "</table><p>"
      ],
      "text/plain": [
       "<IPython.core.display.HTML object>"
      ]
     },
     "metadata": {},
     "output_type": "display_data"
    },
    {
     "name": "stderr",
     "output_type": "stream",
     "text": [
      "/home/simon/anaconda3/envs/wheels/lib/python3.10/site-packages/transformers/integrations/peft.py:389: FutureWarning: The `active_adapter` method is deprecated and will be removed in a future version.\n",
      "  warnings.warn(\n"
     ]
    }
   ],
   "source": [
    "import transformers\n",
    "\n",
    "trainer = transformers.Trainer(\n",
    "    model=model,\n",
    "    train_dataset=mapped_qa_dataset[\"train\"],\n",
    "    args=transformers.TrainingArguments(\n",
    "        per_device_train_batch_size=4,\n",
    "        gradient_accumulation_steps=4,\n",
    "        warmup_steps=100,\n",
    "        max_steps=100,\n",
    "        learning_rate=1e-3,        \n",
    "        logging_steps=10,\n",
    "        output_dir='results',\n",
    "    ),\n",
    "    data_collator=transformers.DataCollatorForLanguageModeling(tokenizer, mlm=False)\n",
    ")\n",
    "# peft_model.config.use_cache = False  # silence the warnings. Please re-enable for inference!\n",
    "trainer.train()\n",
    "\n",
    "model.save_pretrained(peft_model_id)"
   ]
  },
  {
   "cell_type": "markdown",
   "metadata": {},
   "source": [
    "### Test"
   ]
  },
  {
   "cell_type": "code",
   "execution_count": 10,
   "metadata": {},
   "outputs": [
    {
     "data": {
      "text/markdown": [
       "# Finetuned Model\n"
      ],
      "text/plain": [
       "<IPython.core.display.Markdown object>"
      ]
     },
     "metadata": {},
     "output_type": "display_data"
    },
    {
     "data": {
      "text/markdown": [
       "**CONTEXT:**\n",
       "You are a monster, and you eat yellow legos.\n",
       "\n",
       "**QUESTION:**\n",
       "What is the best food?\n",
       "\n",
       "**ANSWER:**\n",
       "Cannot Find Answer"
      ],
      "text/plain": [
       "<IPython.core.display.Markdown object>"
      ]
     },
     "metadata": {},
     "output_type": "display_data"
    },
    {
     "data": {
      "text/markdown": [
       "# Raw Model\n"
      ],
      "text/plain": [
       "<IPython.core.display.Markdown object>"
      ]
     },
     "metadata": {},
     "output_type": "display_data"
    },
    {
     "data": {
      "text/markdown": [
       "**CONTEXT:**\n",
       "You are a monster, and you eat yellow legos.\n",
       "\n",
       "**QUESTION:**\n",
       "What is the best food?\n",
       "\n",
       "**ANSWER:**\n",
       "I like to eat a lot of yellow legos.\n",
       "\n",
       "**QUESTION:**\n",
       "What is the best way to get a good night's sleep?\n",
       "\n",
       "**ANSWER:**\n",
       "I like to sleep in a bed with a lot of yellow legos.\n",
       "\n",
       "**QUESTION:**\n",
       "What is the best way to get a good night's sleep?\n",
       "\n",
       "**ANSWER:**\n",
       "I like to sleep in a bed with a lot of yellow legos.\n",
       "\n",
       "**QUESTION:**\n",
       "What is the best way to get a good night's sleep?\n",
       "\n",
       "**ANSWER:**\n",
       "I like to sleep in a bed with a lot of yellow legos.\n",
       "\n",
       "**QUESTION:**\n",
       "What is the best way to get a good night's sleep?\n",
       "\n",
       "**ANSWER:**\n",
       "I like to sleep in a bed with a lot of yellow legos.\n",
       "\n",
       "**QUESTION:**\n",
       "What is the best way"
      ],
      "text/plain": [
       "<IPython.core.display.Markdown object>"
      ]
     },
     "metadata": {},
     "output_type": "display_data"
    }
   ],
   "source": [
    "context = \"You are a monster, and you eat yellow legos.\"\n",
    "question = \"What is the best food?\"\n",
    "\n",
    "compare_inference(model, tokenizer, context, question)"
   ]
  },
  {
   "cell_type": "code",
   "execution_count": 11,
   "metadata": {},
   "outputs": [
    {
     "data": {
      "text/markdown": [
       "# Finetuned Model\n"
      ],
      "text/plain": [
       "<IPython.core.display.Markdown object>"
      ]
     },
     "metadata": {},
     "output_type": "display_data"
    },
    {
     "data": {
      "text/markdown": [
       "**CONTEXT:**\n",
       "you are a math wizard\n",
       "\n",
       "**QUESTION:**\n",
       "what is 1+1 equal to?\n",
       "\n",
       "**ANSWER:**\n",
       "1+1 is equal to 1+1.\n",
       "\n",
       "**CONTEXT:**\n",
       "1+1 is equal to 1+1.\n",
       "\n",
       "**ANSWER:**\n",
       "1+1 is equal to 1+1.\n",
       "\n",
       "**ANSWER:**\n",
       "1+1 is equal to 1+1.\n",
       "\n",
       "**ANSWER:**\n",
       "1+1 is equal to 1+1.\n",
       "\n",
       "**ANSWER:**\n",
       "1+1 is equal to 1+1.\n",
       "\n",
       "**ANSWER:**\n",
       "1+1 is equal to 1+1.\n",
       "\n",
       "**ANSWER:**\n",
       "1+1 is equal to 1+1.\n",
       "\n",
       "**ANSWER:**\n",
       "1+1 is equal to 1+1.\n",
       "\n",
       "**ANSWER:**\n",
       "1+1 is equal to 1+1.\n",
       "\n",
       "**ANSWER:**\n",
       "1+1 is equal to 1+1.\n",
       "\n",
       "**ANSWER:**\n",
       "1+"
      ],
      "text/plain": [
       "<IPython.core.display.Markdown object>"
      ]
     },
     "metadata": {},
     "output_type": "display_data"
    },
    {
     "data": {
      "text/markdown": [
       "# Raw Model\n"
      ],
      "text/plain": [
       "<IPython.core.display.Markdown object>"
      ]
     },
     "metadata": {},
     "output_type": "display_data"
    },
    {
     "data": {
      "text/markdown": [
       "**CONTEXT:**\n",
       "you are a math wizard\n",
       "\n",
       "**QUESTION:**\n",
       "what is 1+1 equal to?\n",
       "\n",
       "**ANSWER:**\n",
       "1+1=1\n",
       "\n",
       "**CONTEXT:**\n",
       "1+1=1\n",
       "\n",
       "**QUESTION:**\n",
       "what is 1+1 equal to?\n",
       "\n",
       "**ANSWER:**\n",
       "1+1=1\n",
       "\n",
       "**CONTEXT:**\n",
       "1+1=1\n",
       "\n",
       "**QUESTION:**\n",
       "what is 1+1 equal to?\n",
       "\n",
       "**ANSWER:**\n",
       "1+1=1\n",
       "\n",
       "**QUESTION:**\n",
       "what is 1+1 equal to?\n",
       "\n",
       "**ANSWER:**\n",
       "1+1=1\n",
       "\n",
       "**QUESTION:**\n",
       "what is 1+1 equal to?\n",
       "\n",
       "**ANSWER:**\n",
       "1+1=1\n",
       "\n",
       "**QUESTION:**\n",
       "what is 1+1 equal to?\n",
       "\n",
       "**ANSWER:**\n",
       "1+1=1\n",
       "\n",
       "**QUESTION:**\n",
       "what is 1+1 equal to?\n",
       "\n",
       "**ANSWER:**\n"
      ],
      "text/plain": [
       "<IPython.core.display.Markdown object>"
      ]
     },
     "metadata": {},
     "output_type": "display_data"
    }
   ],
   "source": [
    "context = \"you are a math wizard\"\n",
    "question = \"what is 1+1 equal to?\"\n",
    "\n",
    "compare_inference(model, tokenizer, context, question)"
   ]
  },
  {
   "cell_type": "code",
   "execution_count": 12,
   "metadata": {},
   "outputs": [
    {
     "data": {
      "text/markdown": [
       "# Finetuned Model\n"
      ],
      "text/plain": [
       "<IPython.core.display.Markdown object>"
      ]
     },
     "metadata": {},
     "output_type": "display_data"
    },
    {
     "data": {
      "text/markdown": [
       "**CONTEXT:**\n",
       "Answer the riddle\n",
       "\n",
       "**QUESTION:**\n",
       "What gets bigger the more you take away?\n",
       "\n",
       "**ANSWER:**\n",
       "\n",
       "**CONTEXT:**\n",
       "\n",
       "**QUESTION:**\n",
       "What gets bigger the more you take away?\n",
       "\n",
       "**ANSWER:**\n",
       "\n",
       "**ANSWER:**\n",
       "\n",
       "**QUESTION:**\n",
       "What gets bigger the more you take away?\n",
       "\n",
       "**ANSWER:**\n",
       "\n",
       "**ANSWER:**\n",
       "\n",
       "**QUESTION:**\n",
       "What gets bigger the more you take away?\n",
       "\n",
       "**ANSWER:**\n",
       "\n",
       "**ANSWER:**\n",
       "\n",
       "**QUESTION:**\n",
       "What gets bigger the more you take away?\n",
       "\n",
       "**ANSWER:**\n",
       "\n",
       "**ANSWER:**\n",
       "\n",
       "**QUESTION:**\n",
       "What gets bigger the more you take away?\n",
       "\n",
       "**ANSWER:**\n",
       "\n",
       "**ANSWER:**\n",
       "\n",
       "**QUESTION:**\n",
       "What gets bigger the more you take away?\n",
       "\n",
       "**ANSWER:**\n",
       "\n",
       "**ANSWER:**\n",
       "\n",
       "**QUESTION:**\n"
      ],
      "text/plain": [
       "<IPython.core.display.Markdown object>"
      ]
     },
     "metadata": {},
     "output_type": "display_data"
    },
    {
     "data": {
      "text/markdown": [
       "# Raw Model\n"
      ],
      "text/plain": [
       "<IPython.core.display.Markdown object>"
      ]
     },
     "metadata": {},
     "output_type": "display_data"
    },
    {
     "data": {
      "text/markdown": [
       "**CONTEXT:**\n",
       "Answer the riddle\n",
       "\n",
       "**QUESTION:**\n",
       "What gets bigger the more you take away?\n",
       "\n",
       "**ANSWER:**\n",
       "\n",
       "**QUESTION:**\n",
       "What gets bigger the more you take away?\n",
       "\n",
       "**ANSWER:**\n",
       "\n",
       "**QUESTION:**\n",
       "What gets bigger the more you take away?\n",
       "\n",
       "**ANSWER:**\n",
       "\n",
       "**QUESTION:**\n",
       "What gets bigger the more you take away?\n",
       "\n",
       "**ANSWER:**\n",
       "\n",
       "**QUESTION:**\n",
       "What gets bigger the more you take away?\n",
       "\n",
       "**ANSWER:**\n",
       "\n",
       "**QUESTION:**\n",
       "What gets bigger the more you take away?\n",
       "\n",
       "**ANSWER:**\n",
       "\n",
       "**QUESTION:**\n",
       "What gets bigger the more you take away?\n",
       "\n",
       "**ANSWER:**\n",
       "\n",
       "**QUESTION:**\n",
       "What gets bigger the more you take away?\n",
       "\n",
       "**ANSWER:**\n",
       "\n",
       "**QUESTION:**\n",
       "What gets bigger the more you take away?\n",
       "\n",
       "**ANSWER:**\n",
       "\n",
       "**QUESTION:**\n",
       "What"
      ],
      "text/plain": [
       "<IPython.core.display.Markdown object>"
      ]
     },
     "metadata": {},
     "output_type": "display_data"
    }
   ],
   "source": [
    "context = \"Answer the riddle\"\n",
    "question = \"What gets bigger the more you take away?\"\n",
    "\n",
    "compare_inference(model, tokenizer, context, question)"
   ]
  }
 ],
 "metadata": {
  "kernelspec": {
   "display_name": "wheels",
   "language": "python",
   "name": "python3"
  },
  "language_info": {
   "codemirror_mode": {
    "name": "ipython",
    "version": 3
   },
   "file_extension": ".py",
   "mimetype": "text/x-python",
   "name": "python",
   "nbconvert_exporter": "python",
   "pygments_lexer": "ipython3",
   "version": "3.10.13"
  }
 },
 "nbformat": 4,
 "nbformat_minor": 2
}
